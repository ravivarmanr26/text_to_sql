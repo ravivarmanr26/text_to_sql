{
 "cells": [
  {
   "cell_type": "code",
   "execution_count": 1,
   "metadata": {},
   "outputs": [],
   "source": [
    "import os\n",
    "from dotenv import load_dotenv\n",
    "from fastapi import FastAPI, HTTPException\n",
    "from pydantic import BaseModel\n",
    "from langchain_community.utilities.sql_database import SQLDatabase\n",
    "from langchain.chains import create_sql_query_chain\n",
    "from langchain_core.prompts import ChatPromptTemplate, FewShotChatMessagePromptTemplate\n",
    "from langchain_community.tools.sql_database.tool import QuerySQLDataBaseTool\n",
    "from langchain_groq import ChatGroq\n"
   ]
  },
  {
   "cell_type": "code",
   "execution_count": 2,
   "metadata": {},
   "outputs": [],
   "source": [
    "import warnings\n",
    "warnings.filterwarnings(\"ignore\")"
   ]
  },
  {
   "cell_type": "code",
   "execution_count": 3,
   "metadata": {},
   "outputs": [
    {
     "data": {
      "text/plain": [
       "True"
      ]
     },
     "execution_count": 3,
     "metadata": {},
     "output_type": "execute_result"
    }
   ],
   "source": [
    "load_dotenv()"
   ]
  },
  {
   "cell_type": "code",
   "execution_count": 4,
   "metadata": {},
   "outputs": [],
   "source": [
    "import os\n",
    "from langchain_community.utilities import SQLDatabase\n",
    "from langchain_community.tools.sql_database.tool import QuerySQLDatabaseTool\n",
    "from typing_extensions import TypedDict, Annotated"
   ]
  },
  {
   "cell_type": "code",
   "execution_count": 5,
   "metadata": {},
   "outputs": [],
   "source": [
    "db_uri = os.getenv(\"DB_URI\") "
   ]
  },
  {
   "cell_type": "code",
   "execution_count": null,
   "metadata": {},
   "outputs": [],
   "source": [
    "from langchain_community.utilities.sql_database import SQLDatabase\n",
    "\n",
    "# Connect to the MySQL database\n",
    "db = SQLDatabase.from_uri(db_uri)   "
   ]
  },
  {
   "cell_type": "code",
   "execution_count": 41,
   "metadata": {},
   "outputs": [
    {
     "name": "stdout",
     "output_type": "stream",
     "text": [
      "mysql\n"
     ]
    }
   ],
   "source": [
    "# Print the database dialect and usable table names\n",
    "print(db.dialect)"
   ]
  },
  {
   "cell_type": "code",
   "execution_count": 8,
   "metadata": {},
   "outputs": [],
   "source": [
    "from langchain import hub\n",
    "from typing_extensions import TypedDict, Annotated\n",
    "from concurrent.futures import ThreadPoolExecutor, TimeoutError as ThreadTimeout\n",
    "import re"
   ]
  },
  {
   "cell_type": "code",
   "execution_count": 9,
   "metadata": {},
   "outputs": [
    {
     "name": "stdout",
     "output_type": "stream",
     "text": [
      "\n",
      "CREATE TABLE actor (\n",
      "\tactor_id SMALLINT UNSIGNED NOT NULL AUTO_INCREMENT, \n",
      "\tfirst_name VARCHAR(45) NOT NULL, \n",
      "\tlast_name VARCHAR(45) NOT NULL, \n",
      "\tlast_update TIMESTAMP NOT NULL DEFAULT CURRENT_TIMESTAMP ON UPDATE CURRENT_TIMESTAMP, \n",
      "\tPRIMARY KEY (actor_id)\n",
      ")COLLATE utf8mb4_0900_ai_ci ENGINE=InnoDB DEFAULT CHARSET=utf8mb4\n",
      "\n",
      "/*\n",
      "3 rows from actor table:\n",
      "actor_id\tfirst_name\tlast_name\tlast_update\n",
      "1\tPENELOPE\tGUINESS\t2006-02-15 04:34:33\n",
      "2\tNICK\tWAHLBERG\t2006-02-15 04:34:33\n",
      "3\tED\tCHASE\t2006-02-15 04:34:33\n",
      "*/\n",
      "\n",
      "\n",
      "CREATE TABLE address (\n",
      "\taddress_id SMALLINT UNSIGNED NOT NULL AUTO_INCREMENT, \n",
      "\taddress VARCHAR(50) NOT NULL, \n",
      "\taddress2 VARCHAR(50), \n",
      "\tdistrict VARCHAR(20) NOT NULL, \n",
      "\tcity_id SMALLINT UNSIGNED NOT NULL, \n",
      "\tpostal_code VARCHAR(10), \n",
      "\tphone VARCHAR(20) NOT NULL, \n",
      "\tlast_update TIMESTAMP NOT NULL DEFAULT CURRENT_TIMESTAMP ON UPDATE CURRENT_TIMESTAMP, \n",
      "\tPRIMARY KEY (address_id), \n",
      "\tCONSTRAINT fk_address_city FOREIGN KEY(city_id) REFERENCES city (city_id) ON DELETE RESTRICT ON UPDATE CASCADE\n",
      ")COLLATE utf8mb4_0900_ai_ci ENGINE=InnoDB DEFAULT CHARSET=utf8mb4\n",
      "\n",
      "/*\n",
      "3 rows from address table:\n",
      "address_id\taddress\taddress2\tdistrict\tcity_id\tpostal_code\tphone\tlast_update\n",
      "1\t47 MySakila Drive\tNone\tAlberta\t300\t\t\t2014-09-25 22:30:27\n",
      "2\t28 MySQL Boulevard\tNone\tQLD\t576\t\t\t2014-09-25 22:30:09\n",
      "3\t23 Workhaven Lane\tNone\tAlberta\t300\t\t14033335568\t2014-09-25 22:30:27\n",
      "*/\n",
      "\n",
      "\n",
      "CREATE TABLE category (\n",
      "\tcategory_id TINYINT UNSIGNED NOT NULL AUTO_INCREMENT, \n",
      "\tname VARCHAR(25) NOT NULL, \n",
      "\tlast_update TIMESTAMP NOT NULL DEFAULT CURRENT_TIMESTAMP ON UPDATE CURRENT_TIMESTAMP, \n",
      "\tPRIMARY KEY (category_id)\n",
      ")COLLATE utf8mb4_0900_ai_ci ENGINE=InnoDB DEFAULT CHARSET=utf8mb4\n",
      "\n",
      "/*\n",
      "3 rows from category table:\n",
      "category_id\tname\tlast_update\n",
      "1\tAction\t2006-02-15 04:46:27\n",
      "2\tAnimation\t2006-02-15 04:46:27\n",
      "3\tChildren\t2006-02-15 04:46:27\n",
      "*/\n",
      "\n",
      "\n",
      "CREATE TABLE city (\n",
      "\tcity_id SMALLINT UNSIGNED NOT NULL AUTO_INCREMENT, \n",
      "\tcity VARCHAR(50) NOT NULL, \n",
      "\tcountry_id SMALLINT UNSIGNED NOT NULL, \n",
      "\tlast_update TIMESTAMP NOT NULL DEFAULT CURRENT_TIMESTAMP ON UPDATE CURRENT_TIMESTAMP, \n",
      "\tPRIMARY KEY (city_id), \n",
      "\tCONSTRAINT fk_city_country FOREIGN KEY(country_id) REFERENCES country (country_id) ON DELETE RESTRICT ON UPDATE CASCADE\n",
      ")COLLATE utf8mb4_0900_ai_ci ENGINE=InnoDB DEFAULT CHARSET=utf8mb4\n",
      "\n",
      "/*\n",
      "3 rows from city table:\n",
      "city_id\tcity\tcountry_id\tlast_update\n",
      "1\tA Coruña (La Coruña)\t87\t2006-02-15 04:45:25\n",
      "2\tAbha\t82\t2006-02-15 04:45:25\n",
      "3\tAbu Dhabi\t101\t2006-02-15 04:45:25\n",
      "*/\n",
      "\n",
      "\n",
      "CREATE TABLE country (\n",
      "\tcountry_id SMALLINT UNSIGNED NOT NULL AUTO_INCREMENT, \n",
      "\tcountry VARCHAR(50) NOT NULL, \n",
      "\tlast_update TIMESTAMP NOT NULL DEFAULT CURRENT_TIMESTAMP ON UPDATE CURRENT_TIMESTAMP, \n",
      "\tPRIMARY KEY (country_id)\n",
      ")COLLATE utf8mb4_0900_ai_ci ENGINE=InnoDB DEFAULT CHARSET=utf8mb4\n",
      "\n",
      "/*\n",
      "3 rows from country table:\n",
      "country_id\tcountry\tlast_update\n",
      "1\tAfghanistan\t2006-02-15 04:44:00\n",
      "2\tAlgeria\t2006-02-15 04:44:00\n",
      "3\tAmerican Samoa\t2006-02-15 04:44:00\n",
      "*/\n",
      "\n",
      "\n",
      "CREATE TABLE customer (\n",
      "\tcustomer_id SMALLINT UNSIGNED NOT NULL AUTO_INCREMENT, \n",
      "\tstore_id TINYINT UNSIGNED NOT NULL, \n",
      "\tfirst_name VARCHAR(45) NOT NULL, \n",
      "\tlast_name VARCHAR(45) NOT NULL, \n",
      "\temail VARCHAR(50), \n",
      "\taddress_id SMALLINT UNSIGNED NOT NULL, \n",
      "\tactive TINYINT(1) NOT NULL DEFAULT '1', \n",
      "\tcreate_date DATETIME NOT NULL, \n",
      "\tlast_update TIMESTAMP NULL DEFAULT CURRENT_TIMESTAMP ON UPDATE CURRENT_TIMESTAMP, \n",
      "\tPRIMARY KEY (customer_id), \n",
      "\tCONSTRAINT fk_customer_address FOREIGN KEY(address_id) REFERENCES address (address_id) ON DELETE RESTRICT ON UPDATE CASCADE, \n",
      "\tCONSTRAINT fk_customer_store FOREIGN KEY(store_id) REFERENCES store (store_id) ON DELETE RESTRICT ON UPDATE CASCADE\n",
      ")COLLATE utf8mb4_0900_ai_ci ENGINE=InnoDB DEFAULT CHARSET=utf8mb4\n",
      "\n",
      "/*\n",
      "3 rows from customer table:\n",
      "customer_id\tstore_id\tfirst_name\tlast_name\temail\taddress_id\tactive\tcreate_date\tlast_update\n",
      "1\t1\tMARY\tSMITH\tMARY.SMITH@sakilacustomer.org\t5\t1\t2006-02-14 22:04:36\t2006-02-15 04:57:20\n",
      "2\t1\tPATRICIA\tJOHNSON\tPATRICIA.JOHNSON@sakilacustomer.org\t6\t1\t2006-02-14 22:04:36\t2006-02-15 04:57:20\n",
      "3\t1\tLINDA\tWILLIAMS\tLINDA.WILLIAMS@sakilacustomer.org\t7\t1\t2006-02-14 22:04:36\t2006-02-15 04:57:20\n",
      "*/\n",
      "\n",
      "\n",
      "CREATE TABLE film (\n",
      "\tfilm_id SMALLINT UNSIGNED NOT NULL AUTO_INCREMENT, \n",
      "\ttitle VARCHAR(128) NOT NULL, \n",
      "\tdescription TEXT, \n",
      "\trelease_year YEAR, \n",
      "\tlanguage_id TINYINT UNSIGNED NOT NULL, \n",
      "\toriginal_language_id TINYINT UNSIGNED, \n",
      "\trental_duration TINYINT UNSIGNED NOT NULL DEFAULT '3', \n",
      "\trental_rate DECIMAL(4, 2) NOT NULL DEFAULT '4.99', \n",
      "\tlength SMALLINT UNSIGNED, \n",
      "\treplacement_cost DECIMAL(5, 2) NOT NULL DEFAULT '19.99', \n",
      "\trating ENUM('G','PG','PG-13','R','NC-17') DEFAULT 'G', \n",
      "\tspecial_features SET('Trailers','Commentaries','Deleted Scenes','Behind the Scenes'), \n",
      "\tlast_update TIMESTAMP NOT NULL DEFAULT CURRENT_TIMESTAMP ON UPDATE CURRENT_TIMESTAMP, \n",
      "\tPRIMARY KEY (film_id), \n",
      "\tCONSTRAINT fk_film_language FOREIGN KEY(language_id) REFERENCES language (language_id) ON DELETE RESTRICT ON UPDATE CASCADE, \n",
      "\tCONSTRAINT fk_film_language_original FOREIGN KEY(original_language_id) REFERENCES language (language_id) ON DELETE RESTRICT ON UPDATE CASCADE\n",
      ")COLLATE utf8mb4_0900_ai_ci ENGINE=InnoDB DEFAULT CHARSET=utf8mb4\n",
      "\n",
      "/*\n",
      "3 rows from film table:\n",
      "film_id\ttitle\tdescription\trelease_year\tlanguage_id\toriginal_language_id\trental_duration\trental_rate\tlength\treplacement_cost\trating\tspecial_features\tlast_update\n",
      "1\tACADEMY DINOSAUR\tA Epic Drama of a Feminist And a Mad Scientist who must Battle a Teacher in The Canadian Rockies\t2006\t1\tNone\t6\t0.99\t86\t20.99\tPG\t{'Behind the Scenes', 'Deleted Scenes'}\t2006-02-15 05:03:42\n",
      "2\tACE GOLDFINGER\tA Astounding Epistle of a Database Administrator And a Explorer who must Find a Car in Ancient China\t2006\t1\tNone\t3\t4.99\t48\t12.99\tG\t{'Trailers', 'Deleted Scenes'}\t2006-02-15 05:03:42\n",
      "3\tADAPTATION HOLES\tA Astounding Reflection of a Lumberjack And a Car who must Sink a Lumberjack in A Baloon Factory\t2006\t1\tNone\t7\t2.99\t50\t18.99\tNC-17\t{'Trailers', 'Deleted Scenes'}\t2006-02-15 05:03:42\n",
      "*/\n",
      "\n",
      "\n",
      "CREATE TABLE film_actor (\n",
      "\tactor_id SMALLINT UNSIGNED NOT NULL, \n",
      "\tfilm_id SMALLINT UNSIGNED NOT NULL, \n",
      "\tlast_update TIMESTAMP NOT NULL DEFAULT CURRENT_TIMESTAMP ON UPDATE CURRENT_TIMESTAMP, \n",
      "\tPRIMARY KEY (actor_id, film_id), \n",
      "\tCONSTRAINT fk_film_actor_actor FOREIGN KEY(actor_id) REFERENCES actor (actor_id) ON DELETE RESTRICT ON UPDATE CASCADE, \n",
      "\tCONSTRAINT fk_film_actor_film FOREIGN KEY(film_id) REFERENCES film (film_id) ON DELETE RESTRICT ON UPDATE CASCADE\n",
      ")COLLATE utf8mb4_0900_ai_ci ENGINE=InnoDB DEFAULT CHARSET=utf8mb4\n",
      "\n",
      "/*\n",
      "3 rows from film_actor table:\n",
      "actor_id\tfilm_id\tlast_update\n",
      "1\t1\t2006-02-15 05:05:03\n",
      "1\t23\t2006-02-15 05:05:03\n",
      "1\t25\t2006-02-15 05:05:03\n",
      "*/\n",
      "\n",
      "\n",
      "CREATE TABLE film_category (\n",
      "\tfilm_id SMALLINT UNSIGNED NOT NULL, \n",
      "\tcategory_id TINYINT UNSIGNED NOT NULL, \n",
      "\tlast_update TIMESTAMP NOT NULL DEFAULT CURRENT_TIMESTAMP ON UPDATE CURRENT_TIMESTAMP, \n",
      "\tPRIMARY KEY (film_id, category_id), \n",
      "\tCONSTRAINT fk_film_category_category FOREIGN KEY(category_id) REFERENCES category (category_id) ON DELETE RESTRICT ON UPDATE CASCADE, \n",
      "\tCONSTRAINT fk_film_category_film FOREIGN KEY(film_id) REFERENCES film (film_id) ON DELETE RESTRICT ON UPDATE CASCADE\n",
      ")COLLATE utf8mb4_0900_ai_ci ENGINE=InnoDB DEFAULT CHARSET=utf8mb4\n",
      "\n",
      "/*\n",
      "3 rows from film_category table:\n",
      "film_id\tcategory_id\tlast_update\n",
      "1\t6\t2006-02-15 05:07:09\n",
      "2\t11\t2006-02-15 05:07:09\n",
      "3\t6\t2006-02-15 05:07:09\n",
      "*/\n",
      "\n",
      "\n",
      "CREATE TABLE film_text (\n",
      "\tfilm_id SMALLINT UNSIGNED NOT NULL, \n",
      "\ttitle VARCHAR(255) NOT NULL, \n",
      "\tdescription TEXT, \n",
      "\tPRIMARY KEY (film_id)\n",
      ")COLLATE utf8mb4_0900_ai_ci ENGINE=InnoDB DEFAULT CHARSET=utf8mb4\n",
      "\n",
      "/*\n",
      "3 rows from film_text table:\n",
      "film_id\ttitle\tdescription\n",
      "1\tACADEMY DINOSAUR\tA Epic Drama of a Feminist And a Mad Scientist who must Battle a Teacher in The Canadian Rockies\n",
      "2\tACE GOLDFINGER\tA Astounding Epistle of a Database Administrator And a Explorer who must Find a Car in Ancient China\n",
      "3\tADAPTATION HOLES\tA Astounding Reflection of a Lumberjack And a Car who must Sink a Lumberjack in A Baloon Factory\n",
      "*/\n",
      "\n",
      "\n",
      "CREATE TABLE inventory (\n",
      "\tinventory_id MEDIUMINT UNSIGNED NOT NULL AUTO_INCREMENT, \n",
      "\tfilm_id SMALLINT UNSIGNED NOT NULL, \n",
      "\tstore_id TINYINT UNSIGNED NOT NULL, \n",
      "\tlast_update TIMESTAMP NOT NULL DEFAULT CURRENT_TIMESTAMP ON UPDATE CURRENT_TIMESTAMP, \n",
      "\tPRIMARY KEY (inventory_id), \n",
      "\tCONSTRAINT fk_inventory_film FOREIGN KEY(film_id) REFERENCES film (film_id) ON DELETE RESTRICT ON UPDATE CASCADE, \n",
      "\tCONSTRAINT fk_inventory_store FOREIGN KEY(store_id) REFERENCES store (store_id) ON DELETE RESTRICT ON UPDATE CASCADE\n",
      ")COLLATE utf8mb4_0900_ai_ci ENGINE=InnoDB DEFAULT CHARSET=utf8mb4\n",
      "\n",
      "/*\n",
      "3 rows from inventory table:\n",
      "inventory_id\tfilm_id\tstore_id\tlast_update\n",
      "1\t1\t1\t2006-02-15 05:09:17\n",
      "2\t1\t1\t2006-02-15 05:09:17\n",
      "3\t1\t1\t2006-02-15 05:09:17\n",
      "*/\n",
      "\n",
      "\n",
      "CREATE TABLE language (\n",
      "\tlanguage_id TINYINT UNSIGNED NOT NULL AUTO_INCREMENT, \n",
      "\tname CHAR(20) NOT NULL, \n",
      "\tlast_update TIMESTAMP NOT NULL DEFAULT CURRENT_TIMESTAMP ON UPDATE CURRENT_TIMESTAMP, \n",
      "\tPRIMARY KEY (language_id)\n",
      ")COLLATE utf8mb4_0900_ai_ci ENGINE=InnoDB DEFAULT CHARSET=utf8mb4\n",
      "\n",
      "/*\n",
      "3 rows from language table:\n",
      "language_id\tname\tlast_update\n",
      "1\tEnglish\t2006-02-15 05:02:19\n",
      "2\tItalian\t2006-02-15 05:02:19\n",
      "3\tJapanese\t2006-02-15 05:02:19\n",
      "*/\n",
      "\n",
      "\n",
      "CREATE TABLE payment (\n",
      "\tpayment_id SMALLINT UNSIGNED NOT NULL AUTO_INCREMENT, \n",
      "\tcustomer_id SMALLINT UNSIGNED NOT NULL, \n",
      "\tstaff_id TINYINT UNSIGNED NOT NULL, \n",
      "\trental_id INTEGER, \n",
      "\tamount DECIMAL(5, 2) NOT NULL, \n",
      "\tpayment_date DATETIME NOT NULL, \n",
      "\tlast_update TIMESTAMP NULL DEFAULT CURRENT_TIMESTAMP ON UPDATE CURRENT_TIMESTAMP, \n",
      "\tPRIMARY KEY (payment_id), \n",
      "\tCONSTRAINT fk_payment_customer FOREIGN KEY(customer_id) REFERENCES customer (customer_id) ON DELETE RESTRICT ON UPDATE CASCADE, \n",
      "\tCONSTRAINT fk_payment_rental FOREIGN KEY(rental_id) REFERENCES rental (rental_id) ON DELETE SET NULL ON UPDATE CASCADE, \n",
      "\tCONSTRAINT fk_payment_staff FOREIGN KEY(staff_id) REFERENCES staff (staff_id) ON DELETE RESTRICT ON UPDATE CASCADE\n",
      ")COLLATE utf8mb4_0900_ai_ci ENGINE=InnoDB DEFAULT CHARSET=utf8mb4\n",
      "\n",
      "/*\n",
      "3 rows from payment table:\n",
      "payment_id\tcustomer_id\tstaff_id\trental_id\tamount\tpayment_date\tlast_update\n",
      "1\t1\t1\t76\t2.99\t2005-05-25 11:30:37\t2006-02-15 22:12:30\n",
      "2\t1\t1\t573\t0.99\t2005-05-28 10:35:23\t2006-02-15 22:12:30\n",
      "3\t1\t1\t1185\t5.99\t2005-06-15 00:54:12\t2006-02-15 22:12:30\n",
      "*/\n",
      "\n",
      "\n",
      "CREATE TABLE rental (\n",
      "\trental_id INTEGER NOT NULL AUTO_INCREMENT, \n",
      "\trental_date DATETIME NOT NULL, \n",
      "\tinventory_id MEDIUMINT UNSIGNED NOT NULL, \n",
      "\tcustomer_id SMALLINT UNSIGNED NOT NULL, \n",
      "\treturn_date DATETIME, \n",
      "\tstaff_id TINYINT UNSIGNED NOT NULL, \n",
      "\tlast_update TIMESTAMP NOT NULL DEFAULT CURRENT_TIMESTAMP ON UPDATE CURRENT_TIMESTAMP, \n",
      "\tPRIMARY KEY (rental_id), \n",
      "\tCONSTRAINT fk_rental_customer FOREIGN KEY(customer_id) REFERENCES customer (customer_id) ON DELETE RESTRICT ON UPDATE CASCADE, \n",
      "\tCONSTRAINT fk_rental_inventory FOREIGN KEY(inventory_id) REFERENCES inventory (inventory_id) ON DELETE RESTRICT ON UPDATE CASCADE, \n",
      "\tCONSTRAINT fk_rental_staff FOREIGN KEY(staff_id) REFERENCES staff (staff_id) ON DELETE RESTRICT ON UPDATE CASCADE\n",
      ")COLLATE utf8mb4_0900_ai_ci ENGINE=InnoDB DEFAULT CHARSET=utf8mb4\n",
      "\n",
      "/*\n",
      "3 rows from rental table:\n",
      "rental_id\trental_date\tinventory_id\tcustomer_id\treturn_date\tstaff_id\tlast_update\n",
      "1\t2005-05-24 22:53:30\t367\t130\t2005-05-26 22:04:30\t1\t2006-02-15 21:30:53\n",
      "2\t2005-05-24 22:54:33\t1525\t459\t2005-05-28 19:40:33\t1\t2006-02-15 21:30:53\n",
      "3\t2005-05-24 23:03:39\t1711\t408\t2005-06-01 22:12:39\t1\t2006-02-15 21:30:53\n",
      "*/\n",
      "\n",
      "\n",
      "CREATE TABLE staff (\n",
      "\tstaff_id TINYINT UNSIGNED NOT NULL AUTO_INCREMENT, \n",
      "\tfirst_name VARCHAR(45) NOT NULL, \n",
      "\tlast_name VARCHAR(45) NOT NULL, \n",
      "\taddress_id SMALLINT UNSIGNED NOT NULL, \n",
      "\tpicture BLOB, \n",
      "\temail VARCHAR(50), \n",
      "\tstore_id TINYINT UNSIGNED NOT NULL, \n",
      "\tactive TINYINT(1) NOT NULL DEFAULT '1', \n",
      "\tusername VARCHAR(16) NOT NULL, \n",
      "\tpassword VARCHAR(40) CHARACTER SET utf8mb4 COLLATE utf8mb4_bin, \n",
      "\tlast_update TIMESTAMP NOT NULL DEFAULT CURRENT_TIMESTAMP ON UPDATE CURRENT_TIMESTAMP, \n",
      "\tPRIMARY KEY (staff_id), \n",
      "\tCONSTRAINT fk_staff_address FOREIGN KEY(address_id) REFERENCES address (address_id) ON DELETE RESTRICT ON UPDATE CASCADE, \n",
      "\tCONSTRAINT fk_staff_store FOREIGN KEY(store_id) REFERENCES store (store_id) ON DELETE RESTRICT ON UPDATE CASCADE\n",
      ")COLLATE utf8mb4_0900_ai_ci ENGINE=InnoDB DEFAULT CHARSET=utf8mb4\n",
      "\n",
      "/*\n",
      "3 rows from staff table:\n",
      "staff_id\tfirst_name\tlast_name\taddress_id\tpicture\temail\tstore_id\tactive\tusername\tpassword\tlast_update\n",
      "1\tMike\tHillyer\t3\tb'\\x89PNG\\r\\n\\x1a\\n\\x00\\x00\\x00\\rIHDR\\x00\\x00\\x00y\\x00\\x00\\x00u\\x08\\x02\\x00\\x00\\x00\\xe5Z\\xd9e\\x00\\x0\tMike.Hillyer@sakilastaff.com\t1\t1\tMike\t8cb2237d0679ca88db6464eac60da96345513964\t2006-02-15 03:57:16\n",
      "2\tJon\tStephens\t4\tNone\tJon.Stephens@sakilastaff.com\t2\t1\tJon\tNone\t2006-02-15 03:57:16\n",
      "*/\n",
      "\n",
      "\n",
      "CREATE TABLE store (\n",
      "\tstore_id TINYINT UNSIGNED NOT NULL AUTO_INCREMENT, \n",
      "\tmanager_staff_id TINYINT UNSIGNED NOT NULL, \n",
      "\taddress_id SMALLINT UNSIGNED NOT NULL, \n",
      "\tlast_update TIMESTAMP NOT NULL DEFAULT CURRENT_TIMESTAMP ON UPDATE CURRENT_TIMESTAMP, \n",
      "\tPRIMARY KEY (store_id), \n",
      "\tCONSTRAINT fk_store_address FOREIGN KEY(address_id) REFERENCES address (address_id) ON DELETE RESTRICT ON UPDATE CASCADE, \n",
      "\tCONSTRAINT fk_store_staff FOREIGN KEY(manager_staff_id) REFERENCES staff (staff_id) ON DELETE RESTRICT ON UPDATE CASCADE\n",
      ")COLLATE utf8mb4_0900_ai_ci ENGINE=InnoDB DEFAULT CHARSET=utf8mb4\n",
      "\n",
      "/*\n",
      "3 rows from store table:\n",
      "store_id\tmanager_staff_id\taddress_id\tlast_update\n",
      "1\t1\t1\t2006-02-15 04:57:12\n",
      "2\t2\t2\t2006-02-15 04:57:12\n",
      "*/\n"
     ]
    }
   ],
   "source": [
    "print(db.get_table_info())"
   ]
  },
  {
   "cell_type": "code",
   "execution_count": 10,
   "metadata": {},
   "outputs": [],
   "source": [
    "table_name = db.get_usable_table_names()"
   ]
  },
  {
   "cell_type": "code",
   "execution_count": 11,
   "metadata": {},
   "outputs": [
    {
     "data": {
      "text/plain": [
       "['actor',\n",
       " 'address',\n",
       " 'category',\n",
       " 'city',\n",
       " 'country',\n",
       " 'customer',\n",
       " 'film',\n",
       " 'film_actor',\n",
       " 'film_category',\n",
       " 'film_text',\n",
       " 'inventory',\n",
       " 'language',\n",
       " 'payment',\n",
       " 'rental',\n",
       " 'staff',\n",
       " 'store']"
      ]
     },
     "execution_count": 11,
     "metadata": {},
     "output_type": "execute_result"
    }
   ],
   "source": [
    "table_name"
   ]
  },
  {
   "cell_type": "code",
   "execution_count": 12,
   "metadata": {},
   "outputs": [],
   "source": [
    "table_info = db.get_table_info(table_name)"
   ]
  },
  {
   "cell_type": "code",
   "execution_count": 13,
   "metadata": {},
   "outputs": [
    {
     "data": {
      "text/plain": [
       "\"\\nCREATE TABLE actor (\\n\\tactor_id SMALLINT UNSIGNED NOT NULL AUTO_INCREMENT, \\n\\tfirst_name VARCHAR(45) NOT NULL, \\n\\tlast_name VARCHAR(45) NOT NULL, \\n\\tlast_update TIMESTAMP NOT NULL DEFAULT CURRENT_TIMESTAMP ON UPDATE CURRENT_TIMESTAMP, \\n\\tPRIMARY KEY (actor_id)\\n)COLLATE utf8mb4_0900_ai_ci ENGINE=InnoDB DEFAULT CHARSET=utf8mb4\\n\\n/*\\n3 rows from actor table:\\nactor_id\\tfirst_name\\tlast_name\\tlast_update\\n1\\tPENELOPE\\tGUINESS\\t2006-02-15 04:34:33\\n2\\tNICK\\tWAHLBERG\\t2006-02-15 04:34:33\\n3\\tED\\tCHASE\\t2006-02-15 04:34:33\\n*/\\n\\n\\nCREATE TABLE address (\\n\\taddress_id SMALLINT UNSIGNED NOT NULL AUTO_INCREMENT, \\n\\taddress VARCHAR(50) NOT NULL, \\n\\taddress2 VARCHAR(50), \\n\\tdistrict VARCHAR(20) NOT NULL, \\n\\tcity_id SMALLINT UNSIGNED NOT NULL, \\n\\tpostal_code VARCHAR(10), \\n\\tphone VARCHAR(20) NOT NULL, \\n\\tlast_update TIMESTAMP NOT NULL DEFAULT CURRENT_TIMESTAMP ON UPDATE CURRENT_TIMESTAMP, \\n\\tPRIMARY KEY (address_id), \\n\\tCONSTRAINT fk_address_city FOREIGN KEY(city_id) REFERENCES city (city_id) ON DELETE RESTRICT ON UPDATE CASCADE\\n)COLLATE utf8mb4_0900_ai_ci ENGINE=InnoDB DEFAULT CHARSET=utf8mb4\\n\\n/*\\n3 rows from address table:\\naddress_id\\taddress\\taddress2\\tdistrict\\tcity_id\\tpostal_code\\tphone\\tlast_update\\n1\\t47 MySakila Drive\\tNone\\tAlberta\\t300\\t\\t\\t2014-09-25 22:30:27\\n2\\t28 MySQL Boulevard\\tNone\\tQLD\\t576\\t\\t\\t2014-09-25 22:30:09\\n3\\t23 Workhaven Lane\\tNone\\tAlberta\\t300\\t\\t14033335568\\t2014-09-25 22:30:27\\n*/\\n\\n\\nCREATE TABLE category (\\n\\tcategory_id TINYINT UNSIGNED NOT NULL AUTO_INCREMENT, \\n\\tname VARCHAR(25) NOT NULL, \\n\\tlast_update TIMESTAMP NOT NULL DEFAULT CURRENT_TIMESTAMP ON UPDATE CURRENT_TIMESTAMP, \\n\\tPRIMARY KEY (category_id)\\n)COLLATE utf8mb4_0900_ai_ci ENGINE=InnoDB DEFAULT CHARSET=utf8mb4\\n\\n/*\\n3 rows from category table:\\ncategory_id\\tname\\tlast_update\\n1\\tAction\\t2006-02-15 04:46:27\\n2\\tAnimation\\t2006-02-15 04:46:27\\n3\\tChildren\\t2006-02-15 04:46:27\\n*/\\n\\n\\nCREATE TABLE city (\\n\\tcity_id SMALLINT UNSIGNED NOT NULL AUTO_INCREMENT, \\n\\tcity VARCHAR(50) NOT NULL, \\n\\tcountry_id SMALLINT UNSIGNED NOT NULL, \\n\\tlast_update TIMESTAMP NOT NULL DEFAULT CURRENT_TIMESTAMP ON UPDATE CURRENT_TIMESTAMP, \\n\\tPRIMARY KEY (city_id), \\n\\tCONSTRAINT fk_city_country FOREIGN KEY(country_id) REFERENCES country (country_id) ON DELETE RESTRICT ON UPDATE CASCADE\\n)COLLATE utf8mb4_0900_ai_ci ENGINE=InnoDB DEFAULT CHARSET=utf8mb4\\n\\n/*\\n3 rows from city table:\\ncity_id\\tcity\\tcountry_id\\tlast_update\\n1\\tA Coruña (La Coruña)\\t87\\t2006-02-15 04:45:25\\n2\\tAbha\\t82\\t2006-02-15 04:45:25\\n3\\tAbu Dhabi\\t101\\t2006-02-15 04:45:25\\n*/\\n\\n\\nCREATE TABLE country (\\n\\tcountry_id SMALLINT UNSIGNED NOT NULL AUTO_INCREMENT, \\n\\tcountry VARCHAR(50) NOT NULL, \\n\\tlast_update TIMESTAMP NOT NULL DEFAULT CURRENT_TIMESTAMP ON UPDATE CURRENT_TIMESTAMP, \\n\\tPRIMARY KEY (country_id)\\n)COLLATE utf8mb4_0900_ai_ci ENGINE=InnoDB DEFAULT CHARSET=utf8mb4\\n\\n/*\\n3 rows from country table:\\ncountry_id\\tcountry\\tlast_update\\n1\\tAfghanistan\\t2006-02-15 04:44:00\\n2\\tAlgeria\\t2006-02-15 04:44:00\\n3\\tAmerican Samoa\\t2006-02-15 04:44:00\\n*/\\n\\n\\nCREATE TABLE customer (\\n\\tcustomer_id SMALLINT UNSIGNED NOT NULL AUTO_INCREMENT, \\n\\tstore_id TINYINT UNSIGNED NOT NULL, \\n\\tfirst_name VARCHAR(45) NOT NULL, \\n\\tlast_name VARCHAR(45) NOT NULL, \\n\\temail VARCHAR(50), \\n\\taddress_id SMALLINT UNSIGNED NOT NULL, \\n\\tactive TINYINT(1) NOT NULL DEFAULT '1', \\n\\tcreate_date DATETIME NOT NULL, \\n\\tlast_update TIMESTAMP NULL DEFAULT CURRENT_TIMESTAMP ON UPDATE CURRENT_TIMESTAMP, \\n\\tPRIMARY KEY (customer_id), \\n\\tCONSTRAINT fk_customer_address FOREIGN KEY(address_id) REFERENCES address (address_id) ON DELETE RESTRICT ON UPDATE CASCADE, \\n\\tCONSTRAINT fk_customer_store FOREIGN KEY(store_id) REFERENCES store (store_id) ON DELETE RESTRICT ON UPDATE CASCADE\\n)COLLATE utf8mb4_0900_ai_ci ENGINE=InnoDB DEFAULT CHARSET=utf8mb4\\n\\n/*\\n3 rows from customer table:\\ncustomer_id\\tstore_id\\tfirst_name\\tlast_name\\temail\\taddress_id\\tactive\\tcreate_date\\tlast_update\\n1\\t1\\tMARY\\tSMITH\\tMARY.SMITH@sakilacustomer.org\\t5\\t1\\t2006-02-14 22:04:36\\t2006-02-15 04:57:20\\n2\\t1\\tPATRICIA\\tJOHNSON\\tPATRICIA.JOHNSON@sakilacustomer.org\\t6\\t1\\t2006-02-14 22:04:36\\t2006-02-15 04:57:20\\n3\\t1\\tLINDA\\tWILLIAMS\\tLINDA.WILLIAMS@sakilacustomer.org\\t7\\t1\\t2006-02-14 22:04:36\\t2006-02-15 04:57:20\\n*/\\n\\n\\nCREATE TABLE film (\\n\\tfilm_id SMALLINT UNSIGNED NOT NULL AUTO_INCREMENT, \\n\\ttitle VARCHAR(128) NOT NULL, \\n\\tdescription TEXT, \\n\\trelease_year YEAR, \\n\\tlanguage_id TINYINT UNSIGNED NOT NULL, \\n\\toriginal_language_id TINYINT UNSIGNED, \\n\\trental_duration TINYINT UNSIGNED NOT NULL DEFAULT '3', \\n\\trental_rate DECIMAL(4, 2) NOT NULL DEFAULT '4.99', \\n\\tlength SMALLINT UNSIGNED, \\n\\treplacement_cost DECIMAL(5, 2) NOT NULL DEFAULT '19.99', \\n\\trating ENUM('G','PG','PG-13','R','NC-17') DEFAULT 'G', \\n\\tspecial_features SET('Trailers','Commentaries','Deleted Scenes','Behind the Scenes'), \\n\\tlast_update TIMESTAMP NOT NULL DEFAULT CURRENT_TIMESTAMP ON UPDATE CURRENT_TIMESTAMP, \\n\\tPRIMARY KEY (film_id), \\n\\tCONSTRAINT fk_film_language FOREIGN KEY(language_id) REFERENCES language (language_id) ON DELETE RESTRICT ON UPDATE CASCADE, \\n\\tCONSTRAINT fk_film_language_original FOREIGN KEY(original_language_id) REFERENCES language (language_id) ON DELETE RESTRICT ON UPDATE CASCADE\\n)COLLATE utf8mb4_0900_ai_ci ENGINE=InnoDB DEFAULT CHARSET=utf8mb4\\n\\n/*\\n3 rows from film table:\\nfilm_id\\ttitle\\tdescription\\trelease_year\\tlanguage_id\\toriginal_language_id\\trental_duration\\trental_rate\\tlength\\treplacement_cost\\trating\\tspecial_features\\tlast_update\\n1\\tACADEMY DINOSAUR\\tA Epic Drama of a Feminist And a Mad Scientist who must Battle a Teacher in The Canadian Rockies\\t2006\\t1\\tNone\\t6\\t0.99\\t86\\t20.99\\tPG\\t{'Behind the Scenes', 'Deleted Scenes'}\\t2006-02-15 05:03:42\\n2\\tACE GOLDFINGER\\tA Astounding Epistle of a Database Administrator And a Explorer who must Find a Car in Ancient China\\t2006\\t1\\tNone\\t3\\t4.99\\t48\\t12.99\\tG\\t{'Trailers', 'Deleted Scenes'}\\t2006-02-15 05:03:42\\n3\\tADAPTATION HOLES\\tA Astounding Reflection of a Lumberjack And a Car who must Sink a Lumberjack in A Baloon Factory\\t2006\\t1\\tNone\\t7\\t2.99\\t50\\t18.99\\tNC-17\\t{'Trailers', 'Deleted Scenes'}\\t2006-02-15 05:03:42\\n*/\\n\\n\\nCREATE TABLE film_actor (\\n\\tactor_id SMALLINT UNSIGNED NOT NULL, \\n\\tfilm_id SMALLINT UNSIGNED NOT NULL, \\n\\tlast_update TIMESTAMP NOT NULL DEFAULT CURRENT_TIMESTAMP ON UPDATE CURRENT_TIMESTAMP, \\n\\tPRIMARY KEY (actor_id, film_id), \\n\\tCONSTRAINT fk_film_actor_actor FOREIGN KEY(actor_id) REFERENCES actor (actor_id) ON DELETE RESTRICT ON UPDATE CASCADE, \\n\\tCONSTRAINT fk_film_actor_film FOREIGN KEY(film_id) REFERENCES film (film_id) ON DELETE RESTRICT ON UPDATE CASCADE\\n)COLLATE utf8mb4_0900_ai_ci ENGINE=InnoDB DEFAULT CHARSET=utf8mb4\\n\\n/*\\n3 rows from film_actor table:\\nactor_id\\tfilm_id\\tlast_update\\n1\\t1\\t2006-02-15 05:05:03\\n1\\t23\\t2006-02-15 05:05:03\\n1\\t25\\t2006-02-15 05:05:03\\n*/\\n\\n\\nCREATE TABLE film_category (\\n\\tfilm_id SMALLINT UNSIGNED NOT NULL, \\n\\tcategory_id TINYINT UNSIGNED NOT NULL, \\n\\tlast_update TIMESTAMP NOT NULL DEFAULT CURRENT_TIMESTAMP ON UPDATE CURRENT_TIMESTAMP, \\n\\tPRIMARY KEY (film_id, category_id), \\n\\tCONSTRAINT fk_film_category_category FOREIGN KEY(category_id) REFERENCES category (category_id) ON DELETE RESTRICT ON UPDATE CASCADE, \\n\\tCONSTRAINT fk_film_category_film FOREIGN KEY(film_id) REFERENCES film (film_id) ON DELETE RESTRICT ON UPDATE CASCADE\\n)COLLATE utf8mb4_0900_ai_ci ENGINE=InnoDB DEFAULT CHARSET=utf8mb4\\n\\n/*\\n3 rows from film_category table:\\nfilm_id\\tcategory_id\\tlast_update\\n1\\t6\\t2006-02-15 05:07:09\\n2\\t11\\t2006-02-15 05:07:09\\n3\\t6\\t2006-02-15 05:07:09\\n*/\\n\\n\\nCREATE TABLE film_text (\\n\\tfilm_id SMALLINT UNSIGNED NOT NULL, \\n\\ttitle VARCHAR(255) NOT NULL, \\n\\tdescription TEXT, \\n\\tPRIMARY KEY (film_id)\\n)COLLATE utf8mb4_0900_ai_ci ENGINE=InnoDB DEFAULT CHARSET=utf8mb4\\n\\n/*\\n3 rows from film_text table:\\nfilm_id\\ttitle\\tdescription\\n1\\tACADEMY DINOSAUR\\tA Epic Drama of a Feminist And a Mad Scientist who must Battle a Teacher in The Canadian Rockies\\n2\\tACE GOLDFINGER\\tA Astounding Epistle of a Database Administrator And a Explorer who must Find a Car in Ancient China\\n3\\tADAPTATION HOLES\\tA Astounding Reflection of a Lumberjack And a Car who must Sink a Lumberjack in A Baloon Factory\\n*/\\n\\n\\nCREATE TABLE inventory (\\n\\tinventory_id MEDIUMINT UNSIGNED NOT NULL AUTO_INCREMENT, \\n\\tfilm_id SMALLINT UNSIGNED NOT NULL, \\n\\tstore_id TINYINT UNSIGNED NOT NULL, \\n\\tlast_update TIMESTAMP NOT NULL DEFAULT CURRENT_TIMESTAMP ON UPDATE CURRENT_TIMESTAMP, \\n\\tPRIMARY KEY (inventory_id), \\n\\tCONSTRAINT fk_inventory_film FOREIGN KEY(film_id) REFERENCES film (film_id) ON DELETE RESTRICT ON UPDATE CASCADE, \\n\\tCONSTRAINT fk_inventory_store FOREIGN KEY(store_id) REFERENCES store (store_id) ON DELETE RESTRICT ON UPDATE CASCADE\\n)COLLATE utf8mb4_0900_ai_ci ENGINE=InnoDB DEFAULT CHARSET=utf8mb4\\n\\n/*\\n3 rows from inventory table:\\ninventory_id\\tfilm_id\\tstore_id\\tlast_update\\n1\\t1\\t1\\t2006-02-15 05:09:17\\n2\\t1\\t1\\t2006-02-15 05:09:17\\n3\\t1\\t1\\t2006-02-15 05:09:17\\n*/\\n\\n\\nCREATE TABLE language (\\n\\tlanguage_id TINYINT UNSIGNED NOT NULL AUTO_INCREMENT, \\n\\tname CHAR(20) NOT NULL, \\n\\tlast_update TIMESTAMP NOT NULL DEFAULT CURRENT_TIMESTAMP ON UPDATE CURRENT_TIMESTAMP, \\n\\tPRIMARY KEY (language_id)\\n)COLLATE utf8mb4_0900_ai_ci ENGINE=InnoDB DEFAULT CHARSET=utf8mb4\\n\\n/*\\n3 rows from language table:\\nlanguage_id\\tname\\tlast_update\\n1\\tEnglish\\t2006-02-15 05:02:19\\n2\\tItalian\\t2006-02-15 05:02:19\\n3\\tJapanese\\t2006-02-15 05:02:19\\n*/\\n\\n\\nCREATE TABLE payment (\\n\\tpayment_id SMALLINT UNSIGNED NOT NULL AUTO_INCREMENT, \\n\\tcustomer_id SMALLINT UNSIGNED NOT NULL, \\n\\tstaff_id TINYINT UNSIGNED NOT NULL, \\n\\trental_id INTEGER, \\n\\tamount DECIMAL(5, 2) NOT NULL, \\n\\tpayment_date DATETIME NOT NULL, \\n\\tlast_update TIMESTAMP NULL DEFAULT CURRENT_TIMESTAMP ON UPDATE CURRENT_TIMESTAMP, \\n\\tPRIMARY KEY (payment_id), \\n\\tCONSTRAINT fk_payment_customer FOREIGN KEY(customer_id) REFERENCES customer (customer_id) ON DELETE RESTRICT ON UPDATE CASCADE, \\n\\tCONSTRAINT fk_payment_rental FOREIGN KEY(rental_id) REFERENCES rental (rental_id) ON DELETE SET NULL ON UPDATE CASCADE, \\n\\tCONSTRAINT fk_payment_staff FOREIGN KEY(staff_id) REFERENCES staff (staff_id) ON DELETE RESTRICT ON UPDATE CASCADE\\n)COLLATE utf8mb4_0900_ai_ci ENGINE=InnoDB DEFAULT CHARSET=utf8mb4\\n\\n/*\\n3 rows from payment table:\\npayment_id\\tcustomer_id\\tstaff_id\\trental_id\\tamount\\tpayment_date\\tlast_update\\n1\\t1\\t1\\t76\\t2.99\\t2005-05-25 11:30:37\\t2006-02-15 22:12:30\\n2\\t1\\t1\\t573\\t0.99\\t2005-05-28 10:35:23\\t2006-02-15 22:12:30\\n3\\t1\\t1\\t1185\\t5.99\\t2005-06-15 00:54:12\\t2006-02-15 22:12:30\\n*/\\n\\n\\nCREATE TABLE rental (\\n\\trental_id INTEGER NOT NULL AUTO_INCREMENT, \\n\\trental_date DATETIME NOT NULL, \\n\\tinventory_id MEDIUMINT UNSIGNED NOT NULL, \\n\\tcustomer_id SMALLINT UNSIGNED NOT NULL, \\n\\treturn_date DATETIME, \\n\\tstaff_id TINYINT UNSIGNED NOT NULL, \\n\\tlast_update TIMESTAMP NOT NULL DEFAULT CURRENT_TIMESTAMP ON UPDATE CURRENT_TIMESTAMP, \\n\\tPRIMARY KEY (rental_id), \\n\\tCONSTRAINT fk_rental_customer FOREIGN KEY(customer_id) REFERENCES customer (customer_id) ON DELETE RESTRICT ON UPDATE CASCADE, \\n\\tCONSTRAINT fk_rental_inventory FOREIGN KEY(inventory_id) REFERENCES inventory (inventory_id) ON DELETE RESTRICT ON UPDATE CASCADE, \\n\\tCONSTRAINT fk_rental_staff FOREIGN KEY(staff_id) REFERENCES staff (staff_id) ON DELETE RESTRICT ON UPDATE CASCADE\\n)COLLATE utf8mb4_0900_ai_ci ENGINE=InnoDB DEFAULT CHARSET=utf8mb4\\n\\n/*\\n3 rows from rental table:\\nrental_id\\trental_date\\tinventory_id\\tcustomer_id\\treturn_date\\tstaff_id\\tlast_update\\n1\\t2005-05-24 22:53:30\\t367\\t130\\t2005-05-26 22:04:30\\t1\\t2006-02-15 21:30:53\\n2\\t2005-05-24 22:54:33\\t1525\\t459\\t2005-05-28 19:40:33\\t1\\t2006-02-15 21:30:53\\n3\\t2005-05-24 23:03:39\\t1711\\t408\\t2005-06-01 22:12:39\\t1\\t2006-02-15 21:30:53\\n*/\\n\\n\\nCREATE TABLE staff (\\n\\tstaff_id TINYINT UNSIGNED NOT NULL AUTO_INCREMENT, \\n\\tfirst_name VARCHAR(45) NOT NULL, \\n\\tlast_name VARCHAR(45) NOT NULL, \\n\\taddress_id SMALLINT UNSIGNED NOT NULL, \\n\\tpicture BLOB, \\n\\temail VARCHAR(50), \\n\\tstore_id TINYINT UNSIGNED NOT NULL, \\n\\tactive TINYINT(1) NOT NULL DEFAULT '1', \\n\\tusername VARCHAR(16) NOT NULL, \\n\\tpassword VARCHAR(40) CHARACTER SET utf8mb4 COLLATE utf8mb4_bin, \\n\\tlast_update TIMESTAMP NOT NULL DEFAULT CURRENT_TIMESTAMP ON UPDATE CURRENT_TIMESTAMP, \\n\\tPRIMARY KEY (staff_id), \\n\\tCONSTRAINT fk_staff_address FOREIGN KEY(address_id) REFERENCES address (address_id) ON DELETE RESTRICT ON UPDATE CASCADE, \\n\\tCONSTRAINT fk_staff_store FOREIGN KEY(store_id) REFERENCES store (store_id) ON DELETE RESTRICT ON UPDATE CASCADE\\n)COLLATE utf8mb4_0900_ai_ci ENGINE=InnoDB DEFAULT CHARSET=utf8mb4\\n\\n/*\\n3 rows from staff table:\\nstaff_id\\tfirst_name\\tlast_name\\taddress_id\\tpicture\\temail\\tstore_id\\tactive\\tusername\\tpassword\\tlast_update\\n1\\tMike\\tHillyer\\t3\\tb'\\\\x89PNG\\\\r\\\\n\\\\x1a\\\\n\\\\x00\\\\x00\\\\x00\\\\rIHDR\\\\x00\\\\x00\\\\x00y\\\\x00\\\\x00\\\\x00u\\\\x08\\\\x02\\\\x00\\\\x00\\\\x00\\\\xe5Z\\\\xd9e\\\\x00\\\\x0\\tMike.Hillyer@sakilastaff.com\\t1\\t1\\tMike\\t8cb2237d0679ca88db6464eac60da96345513964\\t2006-02-15 03:57:16\\n2\\tJon\\tStephens\\t4\\tNone\\tJon.Stephens@sakilastaff.com\\t2\\t1\\tJon\\tNone\\t2006-02-15 03:57:16\\n*/\\n\\n\\nCREATE TABLE store (\\n\\tstore_id TINYINT UNSIGNED NOT NULL AUTO_INCREMENT, \\n\\tmanager_staff_id TINYINT UNSIGNED NOT NULL, \\n\\taddress_id SMALLINT UNSIGNED NOT NULL, \\n\\tlast_update TIMESTAMP NOT NULL DEFAULT CURRENT_TIMESTAMP ON UPDATE CURRENT_TIMESTAMP, \\n\\tPRIMARY KEY (store_id), \\n\\tCONSTRAINT fk_store_address FOREIGN KEY(address_id) REFERENCES address (address_id) ON DELETE RESTRICT ON UPDATE CASCADE, \\n\\tCONSTRAINT fk_store_staff FOREIGN KEY(manager_staff_id) REFERENCES staff (staff_id) ON DELETE RESTRICT ON UPDATE CASCADE\\n)COLLATE utf8mb4_0900_ai_ci ENGINE=InnoDB DEFAULT CHARSET=utf8mb4\\n\\n/*\\n3 rows from store table:\\nstore_id\\tmanager_staff_id\\taddress_id\\tlast_update\\n1\\t1\\t1\\t2006-02-15 04:57:12\\n2\\t2\\t2\\t2006-02-15 04:57:12\\n*/\""
      ]
     },
     "execution_count": 13,
     "metadata": {},
     "output_type": "execute_result"
    }
   ],
   "source": [
    "table_info"
   ]
  },
  {
   "cell_type": "code",
   "execution_count": 15,
   "metadata": {},
   "outputs": [],
   "source": [
    "# Initialize Groq LLM\n",
    "llm = ChatGroq(api_key=os.getenv(\"GROQ_API_KEY\"), model=\"meta-llama/llama-4-scout-17b-16e-instruct\")"
   ]
  },
  {
   "cell_type": "code",
   "execution_count": 16,
   "metadata": {},
   "outputs": [],
   "source": [
    "from langchain import hub\n",
    "\n",
    "# Pull the query prompt template from the LangChain hub\n",
    "query_prompt_template = hub.pull(\"langchain-ai/sql-query-system-prompt\")"
   ]
  },
  {
   "cell_type": "code",
   "execution_count": 17,
   "metadata": {},
   "outputs": [
    {
     "data": {
      "text/plain": [
       "ChatPromptTemplate(input_variables=['dialect', 'input', 'table_info', 'top_k'], input_types={}, partial_variables={}, metadata={'lc_hub_owner': 'langchain-ai', 'lc_hub_repo': 'sql-query-system-prompt', 'lc_hub_commit_hash': '360a0e9d0f0f5da0ee9810a2a0ea3c9dc3de31b3ae9d50272420c33e48e6e323'}, messages=[SystemMessagePromptTemplate(prompt=PromptTemplate(input_variables=['dialect', 'table_info', 'top_k'], input_types={}, partial_variables={}, template='Given an input question, create a syntactically correct {dialect} query to run to help find the answer. Unless the user specifies in his question a specific number of examples they wish to obtain, always limit your query to at most {top_k} results. You can order the results by a relevant column to return the most interesting examples in the database.\\n\\nNever query for all the columns from a specific table, only ask for a the few relevant columns given the question.\\n\\nPay attention to use only the column names that you can see in the schema description. Be careful to not query for columns that do not exist. Also, pay attention to which column is in which table.\\n\\nOnly use the following tables:\\n{table_info}'), additional_kwargs={}), HumanMessagePromptTemplate(prompt=PromptTemplate(input_variables=['input'], input_types={}, partial_variables={}, template='Question: {input}'), additional_kwargs={})])"
      ]
     },
     "execution_count": 17,
     "metadata": {},
     "output_type": "execute_result"
    }
   ],
   "source": [
    "query_prompt_template"
   ]
  },
  {
   "cell_type": "code",
   "execution_count": 18,
   "metadata": {},
   "outputs": [],
   "source": [
    "class QueryRequest(BaseModel):\n",
    "    question: str"
   ]
  },
  {
   "cell_type": "code",
   "execution_count": 19,
   "metadata": {},
   "outputs": [],
   "source": [
    "from typing_extensions import TypedDict\n",
    "\n",
    "# Define a TypedDict for the query output\n",
    "class QueryOutput(TypedDict):\n",
    "    \"\"\"Generated SQL query.\"\"\"\n",
    "    query: Annotated[str, ..., \"Syntactically valid SQL query.\"]"
   ]
  },
  {
   "cell_type": "code",
   "execution_count": 20,
   "metadata": {},
   "outputs": [],
   "source": [
    "# 🧠 Table extraction logic\n",
    "def extract_relevant_tables(user_input: str, all_tables: list[str]) -> list[str]:\n",
    "    user_input_lower = user_input.lower() \n",
    "    return [table for table in all_tables if table.lower() in user_input_lower]\n"
   ]
  },
  {
   "cell_type": "code",
   "execution_count": 21,
   "metadata": {},
   "outputs": [],
   "source": [
    "# 🔒 Query validation\n",
    "def validate_query(query: str):\n",
    "    disallowed = [\"drop\", \"delete\", \"truncate\", \"alter\", \"update\"]\n",
    "    if any(danger in query.lower() for danger in disallowed):\n",
    "        raise HTTPException(status_code=400, detail=\"Unsafe SQL query detected!\")\n"
   ]
  },
  {
   "cell_type": "code",
   "execution_count": 22,
   "metadata": {},
   "outputs": [],
   "source": [
    "user_input =\"fetch me phone number and address of the id who resides in the Mandalay district\""
   ]
  },
  {
   "cell_type": "code",
   "execution_count": 23,
   "metadata": {},
   "outputs": [],
   "source": [
    "all_tables = db.get_usable_table_names()\n",
    "relevant_tables = extract_relevant_tables(user_input, all_tables)"
   ]
  },
  {
   "cell_type": "code",
   "execution_count": 24,
   "metadata": {},
   "outputs": [
    {
     "data": {
      "text/plain": [
       "['address']"
      ]
     },
     "execution_count": 24,
     "metadata": {},
     "output_type": "execute_result"
    }
   ],
   "source": [
    "relevant_tables"
   ]
  },
  {
   "cell_type": "code",
   "execution_count": 25,
   "metadata": {},
   "outputs": [
    {
     "data": {
      "text/plain": [
       "'\\nCREATE TABLE address (\\n\\taddress_id SMALLINT UNSIGNED NOT NULL AUTO_INCREMENT, \\n\\taddress VARCHAR(50) NOT NULL, \\n\\taddress2 VARCHAR(50), \\n\\tdistrict VARCHAR(20) NOT NULL, \\n\\tcity_id SMALLINT UNSIGNED NOT NULL, \\n\\tpostal_code VARCHAR(10), \\n\\tphone VARCHAR(20) NOT NULL, \\n\\tlast_update TIMESTAMP NOT NULL DEFAULT CURRENT_TIMESTAMP ON UPDATE CURRENT_TIMESTAMP, \\n\\tPRIMARY KEY (address_id), \\n\\tCONSTRAINT fk_address_city FOREIGN KEY(city_id) REFERENCES city (city_id) ON DELETE RESTRICT ON UPDATE CASCADE\\n)COLLATE utf8mb4_0900_ai_ci ENGINE=InnoDB DEFAULT CHARSET=utf8mb4\\n\\n/*\\n3 rows from address table:\\naddress_id\\taddress\\taddress2\\tdistrict\\tcity_id\\tpostal_code\\tphone\\tlast_update\\n1\\t47 MySakila Drive\\tNone\\tAlberta\\t300\\t\\t\\t2014-09-25 22:30:27\\n2\\t28 MySQL Boulevard\\tNone\\tQLD\\t576\\t\\t\\t2014-09-25 22:30:09\\n3\\t23 Workhaven Lane\\tNone\\tAlberta\\t300\\t\\t14033335568\\t2014-09-25 22:30:27\\n*/'"
      ]
     },
     "execution_count": 25,
     "metadata": {},
     "output_type": "execute_result"
    }
   ],
   "source": [
    "db.get_table_info(table_names=relevant_tables)"
   ]
  },
  {
   "cell_type": "code",
   "execution_count": 26,
   "metadata": {},
   "outputs": [],
   "source": [
    "def generate_sql_query(question: str) -> dict:\n",
    "    all_tables = db.get_usable_table_names()\n",
    "    relevant_tables = extract_relevant_tables(question, all_tables)\n",
    "    table_info = db.get_table_info(table_names=relevant_tables) if relevant_tables else db.get_table_info()\n",
    "\n",
    "    prompt = query_prompt_template.invoke({\n",
    "        \"dialect\": db.dialect,\n",
    "        \"top_k\": 10,\n",
    "        \"table_info\": table_info,\n",
    "        \"input\": question,\n",
    "    })\n",
    "    structured_llm = llm.with_structured_output(QueryOutput)\n",
    "    \n",
    "    result = structured_llm.invoke(prompt)\n",
    "\n",
    "    query = result[\"query\"]\n",
    "    validate_query(query)\n",
    "    return {\"query\": query}"
   ]
  },
  {
   "cell_type": "code",
   "execution_count": 27,
   "metadata": {},
   "outputs": [],
   "source": [
    "def execute_sql_query(query: str) -> dict:\n",
    "    \"\"\"Execute the provided SQL query.\"\"\"\n",
    "    validate_query(query)\n",
    "\n",
    "    tool = QuerySQLDatabaseTool(db=db) \n",
    "    execute_query_tool = QuerySQLDatabaseTool(db=db)\n",
    "    return {\"result\": execute_query_tool.invoke(query)}"
   ]
  },
  {
   "cell_type": "code",
   "execution_count": 28,
   "metadata": {},
   "outputs": [],
   "source": [
    "# Generate the SQL query\n",
    "generated_query = generate_sql_query(\"fetch me phone number and address who resides in the Mandalay district\")"
   ]
  },
  {
   "cell_type": "code",
   "execution_count": 29,
   "metadata": {},
   "outputs": [
    {
     "data": {
      "text/plain": [
       "{'query': \"SELECT phone, address FROM address WHERE district = 'Mandalay' LIMIT 10\"}"
      ]
     },
     "execution_count": 29,
     "metadata": {},
     "output_type": "execute_result"
    }
   ],
   "source": [
    "generated_query"
   ]
  },
  {
   "cell_type": "code",
   "execution_count": 30,
   "metadata": {},
   "outputs": [
    {
     "name": "stdout",
     "output_type": "stream",
     "text": [
      "{'result': \"[('705814003527', '1566 Inegöl Manor')]\"}\n"
     ]
    }
   ],
   "source": [
    "# Execute the generated SQL query\n",
    "final_result = execute_sql_query(generated_query[\"query\"])\n",
    "\n",
    "# Print the final result\n",
    "print(final_result)"
   ]
  },
  {
   "cell_type": "code",
   "execution_count": 31,
   "metadata": {},
   "outputs": [
    {
     "data": {
      "text/plain": [
       "{'result': \"[('705814003527', '1566 Inegöl Manor')]\"}"
      ]
     },
     "execution_count": 31,
     "metadata": {},
     "output_type": "execute_result"
    }
   ],
   "source": [
    "final_result"
   ]
  },
  {
   "cell_type": "code",
   "execution_count": 32,
   "metadata": {},
   "outputs": [
    {
     "name": "stdout",
     "output_type": "stream",
     "text": [
      "{'query': 'SELECT T1.first_name ,  T1.last_name ,  SUM(T3.rental_rate * T3.rental_duration) ,  AVG(T3.rental_duration) FROM actor AS T1 INNER JOIN film_actor AS T2 ON T1.actor_id = T2.actor_id INNER JOIN film AS T3 ON T2.film_id = T3.film_id GROUP BY T1.first_name ,  T1.last_name ORDER BY SUM(T3.rental_rate * T3.rental_duration) DESC LIMIT 1'}\n",
      "{'result': \"[('SUSAN', 'DAVIS', Decimal('723.58'), Decimal('4.4815'))]\"}\n"
     ]
    }
   ],
   "source": [
    "# Generate the SQL query\n",
    "generated_query = generate_sql_query(\"Which actor has appeared in the highest-grossing films (based on total rental revenue), and what is the average rental duration for films they appeared in?\")\n",
    "\n",
    "# Execute the generated SQL query\n",
    "print(generated_query)\n",
    "final_result = execute_sql_query(generated_query[\"query\"])\n",
    "\n",
    "# Print the final result\n",
    "print(final_result)"
   ]
  },
  {
   "cell_type": "code",
   "execution_count": 34,
   "metadata": {},
   "outputs": [],
   "source": [
    "# # Generate the SQL query\n",
    "# generated_query = generate_sql_query(\"Identify the top 3 cities with the highest average rental revenue per customer over the last year of available rental data. For each of these cities, provide the total number of customers, total revenue, and the top 2 film categories (based on rental frequency) preferred by customers from those cities. Also, indicate the average number of rentals per customer in those cities.\")\n",
    "\n",
    "# # Execute the generated SQL query\n",
    "# print(generated_query)\n",
    "# final_result = execute_sql_query(generated_query[\"query\"])\n",
    "\n",
    "# # Print the final result\n",
    "# print(final_result)"
   ]
  },
  {
   "cell_type": "code",
   "execution_count": null,
   "metadata": {},
   "outputs": [
    {
     "ename": "BadRequestError",
     "evalue": "Error code: 400 - {'error': {'message': \"Failed to call a function. Please adjust your prompt. See 'failed_generation' for more details.\", 'type': 'invalid_request_error', 'code': 'tool_use_failed', 'failed_generation': ' \\n  SELECT \\n    c.country, \\n    AVG(p.total_payments / r.rental_count) AS avg_lifetime_value\\n  FROM \\n    country c\\n  JOIN \\n    customer cu ON c.country_id = cu.customer_id\\n  JOIN \\n    (\\n      SELECT \\n        customer_id, \\n        SUM(amount) AS total_payments\\n      FROM \\n        payment\\n      GROUP BY \\n        customer_id\\n    ) p ON cu.customer_id = p.customer_id\\n  JOIN \\n    (\\n      SELECT \\n        customer_id, \\n        COUNT(rental_id) AS rental_count\\n      FROM \\n        rental\\n      GROUP BY \\n        customer_id\\n    ) r ON cu.customer_id = r.customer_id\\n  GROUP BY \\n    c.country\\n  ORDER BY \\n    avg_lifetime_value DESC\\n  LIMIT 1;\\n</function>\\n\\n<function=QueryOutput> \\n  SELECT \\n    a.city, \\n    SUM(p.amount) AS total_revenue\\n  FROM \\n    address a\\n  JOIN \\n    customer cu ON a.address_id = cu.address_id\\n  JOIN \\n    payment p ON cu.customer_id = p.customer_id\\n  WHERE \\n    cu.country_id = (\\n      SELECT \\n        c.country_id\\n      FROM \\n        country c\\n      JOIN \\n        customer cu ON c.country_id = cu.customer_id\\n      JOIN \\n        (\\n          SELECT \\n            customer_id, \\n            SUM(amount) AS total_payments\\n          FROM \\n            payment\\n          GROUP BY \\n            customer_id\\n        ) p ON cu.customer_id = p.customer_id\\n      JOIN \\n        (\\n          SELECT \\n            customer_id, \\n            COUNT(rental_id) AS rental_count\\n          FROM \\n            rental\\n          GROUP BY \\n            customer_id\\n        ) r ON cu.customer_id = r.customer_id\\n      GROUP BY \\n        c.country\\n      ORDER BY \\n        AVG(p.total_payments / r.rental_count) DESC\\n      LIMIT 1\\n    )\\n  GROUP BY \\n    a.city\\n  ORDER BY \\n    total_revenue DESC\\n  LIMIT 3;\\n</function>'}}",
     "output_type": "error",
     "traceback": [
      "\u001b[1;31m---------------------------------------------------------------------------\u001b[0m",
      "\u001b[1;31mBadRequestError\u001b[0m                           Traceback (most recent call last)",
      "Cell \u001b[1;32mIn[63], line 2\u001b[0m\n\u001b[0;32m      1\u001b[0m \u001b[38;5;66;03m# Generate the SQL query\u001b[39;00m\n\u001b[1;32m----> 2\u001b[0m generated_query \u001b[38;5;241m=\u001b[39m \u001b[43mgenerate_sql_query\u001b[49m\u001b[43m(\u001b[49m\u001b[38;5;124;43m\"\u001b[39;49m\u001b[38;5;124;43mWhich country has the highest average customer lifetime value (total payments divided by rental count per customer), and what are the top 3 cities in that country by total revenue?\u001b[39;49m\u001b[38;5;124;43m\"\u001b[39;49m\u001b[43m)\u001b[49m\n\u001b[0;32m      4\u001b[0m \u001b[38;5;66;03m# Execute the generated SQL query\u001b[39;00m\n\u001b[0;32m      5\u001b[0m \u001b[38;5;28mprint\u001b[39m(generated_query)\n",
      "Cell \u001b[1;32mIn[57], line 14\u001b[0m, in \u001b[0;36mgenerate_sql_query\u001b[1;34m(question)\u001b[0m\n\u001b[0;32m      6\u001b[0m prompt \u001b[38;5;241m=\u001b[39m query_prompt_template\u001b[38;5;241m.\u001b[39minvoke({\n\u001b[0;32m      7\u001b[0m     \u001b[38;5;124m\"\u001b[39m\u001b[38;5;124mdialect\u001b[39m\u001b[38;5;124m\"\u001b[39m: db\u001b[38;5;241m.\u001b[39mdialect,\n\u001b[0;32m      8\u001b[0m     \u001b[38;5;124m\"\u001b[39m\u001b[38;5;124mtop_k\u001b[39m\u001b[38;5;124m\"\u001b[39m: \u001b[38;5;241m10\u001b[39m,\n\u001b[0;32m      9\u001b[0m     \u001b[38;5;124m\"\u001b[39m\u001b[38;5;124mtable_info\u001b[39m\u001b[38;5;124m\"\u001b[39m: table_info,\n\u001b[0;32m     10\u001b[0m     \u001b[38;5;124m\"\u001b[39m\u001b[38;5;124minput\u001b[39m\u001b[38;5;124m\"\u001b[39m: question,\n\u001b[0;32m     11\u001b[0m })\n\u001b[0;32m     13\u001b[0m structured_llm \u001b[38;5;241m=\u001b[39m llm\u001b[38;5;241m.\u001b[39mwith_structured_output(QueryOutput)\n\u001b[1;32m---> 14\u001b[0m result \u001b[38;5;241m=\u001b[39m \u001b[43mstructured_llm\u001b[49m\u001b[38;5;241;43m.\u001b[39;49m\u001b[43minvoke\u001b[49m\u001b[43m(\u001b[49m\u001b[43mprompt\u001b[49m\u001b[43m)\u001b[49m\n\u001b[0;32m     16\u001b[0m query \u001b[38;5;241m=\u001b[39m result\u001b[38;5;241m.\u001b[39mquery  \u001b[38;5;66;03m# ✅ Use dot notation\u001b[39;00m\n\u001b[0;32m     17\u001b[0m validate_query(query)\n",
      "File \u001b[1;32mc:\\Users\\Admin\\AppData\\Local\\Programs\\Python\\Python311\\Lib\\site-packages\\langchain_core\\runnables\\base.py:3045\u001b[0m, in \u001b[0;36mRunnableSequence.invoke\u001b[1;34m(self, input, config, **kwargs)\u001b[0m\n\u001b[0;32m   3043\u001b[0m \u001b[38;5;28;01mwith\u001b[39;00m set_config_context(config) \u001b[38;5;28;01mas\u001b[39;00m context:\n\u001b[0;32m   3044\u001b[0m     \u001b[38;5;28;01mif\u001b[39;00m i \u001b[38;5;241m==\u001b[39m \u001b[38;5;241m0\u001b[39m:\n\u001b[1;32m-> 3045\u001b[0m         \u001b[38;5;28minput\u001b[39m \u001b[38;5;241m=\u001b[39m \u001b[43mcontext\u001b[49m\u001b[38;5;241;43m.\u001b[39;49m\u001b[43mrun\u001b[49m\u001b[43m(\u001b[49m\u001b[43mstep\u001b[49m\u001b[38;5;241;43m.\u001b[39;49m\u001b[43minvoke\u001b[49m\u001b[43m,\u001b[49m\u001b[43m \u001b[49m\u001b[38;5;28;43minput\u001b[39;49m\u001b[43m,\u001b[49m\u001b[43m \u001b[49m\u001b[43mconfig\u001b[49m\u001b[43m,\u001b[49m\u001b[43m \u001b[49m\u001b[38;5;241;43m*\u001b[39;49m\u001b[38;5;241;43m*\u001b[39;49m\u001b[43mkwargs\u001b[49m\u001b[43m)\u001b[49m\n\u001b[0;32m   3046\u001b[0m     \u001b[38;5;28;01melse\u001b[39;00m:\n\u001b[0;32m   3047\u001b[0m         \u001b[38;5;28minput\u001b[39m \u001b[38;5;241m=\u001b[39m context\u001b[38;5;241m.\u001b[39mrun(step\u001b[38;5;241m.\u001b[39minvoke, \u001b[38;5;28minput\u001b[39m, config)\n",
      "File \u001b[1;32mc:\\Users\\Admin\\AppData\\Local\\Programs\\Python\\Python311\\Lib\\site-packages\\langchain_core\\runnables\\base.py:5440\u001b[0m, in \u001b[0;36mRunnableBindingBase.invoke\u001b[1;34m(self, input, config, **kwargs)\u001b[0m\n\u001b[0;32m   5433\u001b[0m \u001b[38;5;129m@override\u001b[39m\n\u001b[0;32m   5434\u001b[0m \u001b[38;5;28;01mdef\u001b[39;00m \u001b[38;5;21minvoke\u001b[39m(\n\u001b[0;32m   5435\u001b[0m     \u001b[38;5;28mself\u001b[39m,\n\u001b[1;32m   (...)\u001b[0m\n\u001b[0;32m   5438\u001b[0m     \u001b[38;5;241m*\u001b[39m\u001b[38;5;241m*\u001b[39mkwargs: Optional[Any],\n\u001b[0;32m   5439\u001b[0m ) \u001b[38;5;241m-\u001b[39m\u001b[38;5;241m>\u001b[39m Output:\n\u001b[1;32m-> 5440\u001b[0m     \u001b[38;5;28;01mreturn\u001b[39;00m \u001b[38;5;28;43mself\u001b[39;49m\u001b[38;5;241;43m.\u001b[39;49m\u001b[43mbound\u001b[49m\u001b[38;5;241;43m.\u001b[39;49m\u001b[43minvoke\u001b[49m\u001b[43m(\u001b[49m\n\u001b[0;32m   5441\u001b[0m \u001b[43m        \u001b[49m\u001b[38;5;28;43minput\u001b[39;49m\u001b[43m,\u001b[49m\n\u001b[0;32m   5442\u001b[0m \u001b[43m        \u001b[49m\u001b[38;5;28;43mself\u001b[39;49m\u001b[38;5;241;43m.\u001b[39;49m\u001b[43m_merge_configs\u001b[49m\u001b[43m(\u001b[49m\u001b[43mconfig\u001b[49m\u001b[43m)\u001b[49m\u001b[43m,\u001b[49m\n\u001b[0;32m   5443\u001b[0m \u001b[43m        \u001b[49m\u001b[38;5;241;43m*\u001b[39;49m\u001b[38;5;241;43m*\u001b[39;49m\u001b[43m{\u001b[49m\u001b[38;5;241;43m*\u001b[39;49m\u001b[38;5;241;43m*\u001b[39;49m\u001b[38;5;28;43mself\u001b[39;49m\u001b[38;5;241;43m.\u001b[39;49m\u001b[43mkwargs\u001b[49m\u001b[43m,\u001b[49m\u001b[43m \u001b[49m\u001b[38;5;241;43m*\u001b[39;49m\u001b[38;5;241;43m*\u001b[39;49m\u001b[43mkwargs\u001b[49m\u001b[43m}\u001b[49m\u001b[43m,\u001b[49m\n\u001b[0;32m   5444\u001b[0m \u001b[43m    \u001b[49m\u001b[43m)\u001b[49m\n",
      "File \u001b[1;32mc:\\Users\\Admin\\AppData\\Local\\Programs\\Python\\Python311\\Lib\\site-packages\\langchain_core\\language_models\\chat_models.py:331\u001b[0m, in \u001b[0;36mBaseChatModel.invoke\u001b[1;34m(self, input, config, stop, **kwargs)\u001b[0m\n\u001b[0;32m    319\u001b[0m \u001b[38;5;129m@override\u001b[39m\n\u001b[0;32m    320\u001b[0m \u001b[38;5;28;01mdef\u001b[39;00m \u001b[38;5;21minvoke\u001b[39m(\n\u001b[0;32m    321\u001b[0m     \u001b[38;5;28mself\u001b[39m,\n\u001b[1;32m   (...)\u001b[0m\n\u001b[0;32m    326\u001b[0m     \u001b[38;5;241m*\u001b[39m\u001b[38;5;241m*\u001b[39mkwargs: Any,\n\u001b[0;32m    327\u001b[0m ) \u001b[38;5;241m-\u001b[39m\u001b[38;5;241m>\u001b[39m BaseMessage:\n\u001b[0;32m    328\u001b[0m     config \u001b[38;5;241m=\u001b[39m ensure_config(config)\n\u001b[0;32m    329\u001b[0m     \u001b[38;5;28;01mreturn\u001b[39;00m cast(\n\u001b[0;32m    330\u001b[0m         \u001b[38;5;124m\"\u001b[39m\u001b[38;5;124mChatGeneration\u001b[39m\u001b[38;5;124m\"\u001b[39m,\n\u001b[1;32m--> 331\u001b[0m         \u001b[38;5;28;43mself\u001b[39;49m\u001b[38;5;241;43m.\u001b[39;49m\u001b[43mgenerate_prompt\u001b[49m\u001b[43m(\u001b[49m\n\u001b[0;32m    332\u001b[0m \u001b[43m            \u001b[49m\u001b[43m[\u001b[49m\u001b[38;5;28;43mself\u001b[39;49m\u001b[38;5;241;43m.\u001b[39;49m\u001b[43m_convert_input\u001b[49m\u001b[43m(\u001b[49m\u001b[38;5;28;43minput\u001b[39;49m\u001b[43m)\u001b[49m\u001b[43m]\u001b[49m\u001b[43m,\u001b[49m\n\u001b[0;32m    333\u001b[0m \u001b[43m            \u001b[49m\u001b[43mstop\u001b[49m\u001b[38;5;241;43m=\u001b[39;49m\u001b[43mstop\u001b[49m\u001b[43m,\u001b[49m\n\u001b[0;32m    334\u001b[0m \u001b[43m            \u001b[49m\u001b[43mcallbacks\u001b[49m\u001b[38;5;241;43m=\u001b[39;49m\u001b[43mconfig\u001b[49m\u001b[38;5;241;43m.\u001b[39;49m\u001b[43mget\u001b[49m\u001b[43m(\u001b[49m\u001b[38;5;124;43m\"\u001b[39;49m\u001b[38;5;124;43mcallbacks\u001b[39;49m\u001b[38;5;124;43m\"\u001b[39;49m\u001b[43m)\u001b[49m\u001b[43m,\u001b[49m\n\u001b[0;32m    335\u001b[0m \u001b[43m            \u001b[49m\u001b[43mtags\u001b[49m\u001b[38;5;241;43m=\u001b[39;49m\u001b[43mconfig\u001b[49m\u001b[38;5;241;43m.\u001b[39;49m\u001b[43mget\u001b[49m\u001b[43m(\u001b[49m\u001b[38;5;124;43m\"\u001b[39;49m\u001b[38;5;124;43mtags\u001b[39;49m\u001b[38;5;124;43m\"\u001b[39;49m\u001b[43m)\u001b[49m\u001b[43m,\u001b[49m\n\u001b[0;32m    336\u001b[0m \u001b[43m            \u001b[49m\u001b[43mmetadata\u001b[49m\u001b[38;5;241;43m=\u001b[39;49m\u001b[43mconfig\u001b[49m\u001b[38;5;241;43m.\u001b[39;49m\u001b[43mget\u001b[49m\u001b[43m(\u001b[49m\u001b[38;5;124;43m\"\u001b[39;49m\u001b[38;5;124;43mmetadata\u001b[39;49m\u001b[38;5;124;43m\"\u001b[39;49m\u001b[43m)\u001b[49m\u001b[43m,\u001b[49m\n\u001b[0;32m    337\u001b[0m \u001b[43m            \u001b[49m\u001b[43mrun_name\u001b[49m\u001b[38;5;241;43m=\u001b[39;49m\u001b[43mconfig\u001b[49m\u001b[38;5;241;43m.\u001b[39;49m\u001b[43mget\u001b[49m\u001b[43m(\u001b[49m\u001b[38;5;124;43m\"\u001b[39;49m\u001b[38;5;124;43mrun_name\u001b[39;49m\u001b[38;5;124;43m\"\u001b[39;49m\u001b[43m)\u001b[49m\u001b[43m,\u001b[49m\n\u001b[0;32m    338\u001b[0m \u001b[43m            \u001b[49m\u001b[43mrun_id\u001b[49m\u001b[38;5;241;43m=\u001b[39;49m\u001b[43mconfig\u001b[49m\u001b[38;5;241;43m.\u001b[39;49m\u001b[43mpop\u001b[49m\u001b[43m(\u001b[49m\u001b[38;5;124;43m\"\u001b[39;49m\u001b[38;5;124;43mrun_id\u001b[39;49m\u001b[38;5;124;43m\"\u001b[39;49m\u001b[43m,\u001b[49m\u001b[43m \u001b[49m\u001b[38;5;28;43;01mNone\u001b[39;49;00m\u001b[43m)\u001b[49m\u001b[43m,\u001b[49m\n\u001b[0;32m    339\u001b[0m \u001b[43m            \u001b[49m\u001b[38;5;241;43m*\u001b[39;49m\u001b[38;5;241;43m*\u001b[39;49m\u001b[43mkwargs\u001b[49m\u001b[43m,\u001b[49m\n\u001b[0;32m    340\u001b[0m \u001b[43m        \u001b[49m\u001b[43m)\u001b[49m\u001b[38;5;241m.\u001b[39mgenerations[\u001b[38;5;241m0\u001b[39m][\u001b[38;5;241m0\u001b[39m],\n\u001b[0;32m    341\u001b[0m     )\u001b[38;5;241m.\u001b[39mmessage\n",
      "File \u001b[1;32mc:\\Users\\Admin\\AppData\\Local\\Programs\\Python\\Python311\\Lib\\site-packages\\langchain_core\\language_models\\chat_models.py:894\u001b[0m, in \u001b[0;36mBaseChatModel.generate_prompt\u001b[1;34m(self, prompts, stop, callbacks, **kwargs)\u001b[0m\n\u001b[0;32m    885\u001b[0m \u001b[38;5;129m@override\u001b[39m\n\u001b[0;32m    886\u001b[0m \u001b[38;5;28;01mdef\u001b[39;00m \u001b[38;5;21mgenerate_prompt\u001b[39m(\n\u001b[0;32m    887\u001b[0m     \u001b[38;5;28mself\u001b[39m,\n\u001b[1;32m   (...)\u001b[0m\n\u001b[0;32m    891\u001b[0m     \u001b[38;5;241m*\u001b[39m\u001b[38;5;241m*\u001b[39mkwargs: Any,\n\u001b[0;32m    892\u001b[0m ) \u001b[38;5;241m-\u001b[39m\u001b[38;5;241m>\u001b[39m LLMResult:\n\u001b[0;32m    893\u001b[0m     prompt_messages \u001b[38;5;241m=\u001b[39m [p\u001b[38;5;241m.\u001b[39mto_messages() \u001b[38;5;28;01mfor\u001b[39;00m p \u001b[38;5;129;01min\u001b[39;00m prompts]\n\u001b[1;32m--> 894\u001b[0m     \u001b[38;5;28;01mreturn\u001b[39;00m \u001b[38;5;28;43mself\u001b[39;49m\u001b[38;5;241;43m.\u001b[39;49m\u001b[43mgenerate\u001b[49m\u001b[43m(\u001b[49m\u001b[43mprompt_messages\u001b[49m\u001b[43m,\u001b[49m\u001b[43m \u001b[49m\u001b[43mstop\u001b[49m\u001b[38;5;241;43m=\u001b[39;49m\u001b[43mstop\u001b[49m\u001b[43m,\u001b[49m\u001b[43m \u001b[49m\u001b[43mcallbacks\u001b[49m\u001b[38;5;241;43m=\u001b[39;49m\u001b[43mcallbacks\u001b[49m\u001b[43m,\u001b[49m\u001b[43m \u001b[49m\u001b[38;5;241;43m*\u001b[39;49m\u001b[38;5;241;43m*\u001b[39;49m\u001b[43mkwargs\u001b[49m\u001b[43m)\u001b[49m\n",
      "File \u001b[1;32mc:\\Users\\Admin\\AppData\\Local\\Programs\\Python\\Python311\\Lib\\site-packages\\langchain_core\\language_models\\chat_models.py:719\u001b[0m, in \u001b[0;36mBaseChatModel.generate\u001b[1;34m(self, messages, stop, callbacks, tags, metadata, run_name, run_id, **kwargs)\u001b[0m\n\u001b[0;32m    716\u001b[0m \u001b[38;5;28;01mfor\u001b[39;00m i, m \u001b[38;5;129;01min\u001b[39;00m \u001b[38;5;28menumerate\u001b[39m(messages):\n\u001b[0;32m    717\u001b[0m     \u001b[38;5;28;01mtry\u001b[39;00m:\n\u001b[0;32m    718\u001b[0m         results\u001b[38;5;241m.\u001b[39mappend(\n\u001b[1;32m--> 719\u001b[0m             \u001b[38;5;28;43mself\u001b[39;49m\u001b[38;5;241;43m.\u001b[39;49m\u001b[43m_generate_with_cache\u001b[49m\u001b[43m(\u001b[49m\n\u001b[0;32m    720\u001b[0m \u001b[43m                \u001b[49m\u001b[43mm\u001b[49m\u001b[43m,\u001b[49m\n\u001b[0;32m    721\u001b[0m \u001b[43m                \u001b[49m\u001b[43mstop\u001b[49m\u001b[38;5;241;43m=\u001b[39;49m\u001b[43mstop\u001b[49m\u001b[43m,\u001b[49m\n\u001b[0;32m    722\u001b[0m \u001b[43m                \u001b[49m\u001b[43mrun_manager\u001b[49m\u001b[38;5;241;43m=\u001b[39;49m\u001b[43mrun_managers\u001b[49m\u001b[43m[\u001b[49m\u001b[43mi\u001b[49m\u001b[43m]\u001b[49m\u001b[43m \u001b[49m\u001b[38;5;28;43;01mif\u001b[39;49;00m\u001b[43m \u001b[49m\u001b[43mrun_managers\u001b[49m\u001b[43m \u001b[49m\u001b[38;5;28;43;01melse\u001b[39;49;00m\u001b[43m \u001b[49m\u001b[38;5;28;43;01mNone\u001b[39;49;00m\u001b[43m,\u001b[49m\n\u001b[0;32m    723\u001b[0m \u001b[43m                \u001b[49m\u001b[38;5;241;43m*\u001b[39;49m\u001b[38;5;241;43m*\u001b[39;49m\u001b[43mkwargs\u001b[49m\u001b[43m,\u001b[49m\n\u001b[0;32m    724\u001b[0m \u001b[43m            \u001b[49m\u001b[43m)\u001b[49m\n\u001b[0;32m    725\u001b[0m         )\n\u001b[0;32m    726\u001b[0m     \u001b[38;5;28;01mexcept\u001b[39;00m \u001b[38;5;167;01mBaseException\u001b[39;00m \u001b[38;5;28;01mas\u001b[39;00m e:\n\u001b[0;32m    727\u001b[0m         \u001b[38;5;28;01mif\u001b[39;00m run_managers:\n",
      "File \u001b[1;32mc:\\Users\\Admin\\AppData\\Local\\Programs\\Python\\Python311\\Lib\\site-packages\\langchain_core\\language_models\\chat_models.py:960\u001b[0m, in \u001b[0;36mBaseChatModel._generate_with_cache\u001b[1;34m(self, messages, stop, run_manager, **kwargs)\u001b[0m\n\u001b[0;32m    958\u001b[0m \u001b[38;5;28;01melse\u001b[39;00m:\n\u001b[0;32m    959\u001b[0m     \u001b[38;5;28;01mif\u001b[39;00m inspect\u001b[38;5;241m.\u001b[39msignature(\u001b[38;5;28mself\u001b[39m\u001b[38;5;241m.\u001b[39m_generate)\u001b[38;5;241m.\u001b[39mparameters\u001b[38;5;241m.\u001b[39mget(\u001b[38;5;124m\"\u001b[39m\u001b[38;5;124mrun_manager\u001b[39m\u001b[38;5;124m\"\u001b[39m):\n\u001b[1;32m--> 960\u001b[0m         result \u001b[38;5;241m=\u001b[39m \u001b[38;5;28;43mself\u001b[39;49m\u001b[38;5;241;43m.\u001b[39;49m\u001b[43m_generate\u001b[49m\u001b[43m(\u001b[49m\n\u001b[0;32m    961\u001b[0m \u001b[43m            \u001b[49m\u001b[43mmessages\u001b[49m\u001b[43m,\u001b[49m\u001b[43m \u001b[49m\u001b[43mstop\u001b[49m\u001b[38;5;241;43m=\u001b[39;49m\u001b[43mstop\u001b[49m\u001b[43m,\u001b[49m\u001b[43m \u001b[49m\u001b[43mrun_manager\u001b[49m\u001b[38;5;241;43m=\u001b[39;49m\u001b[43mrun_manager\u001b[49m\u001b[43m,\u001b[49m\u001b[43m \u001b[49m\u001b[38;5;241;43m*\u001b[39;49m\u001b[38;5;241;43m*\u001b[39;49m\u001b[43mkwargs\u001b[49m\n\u001b[0;32m    962\u001b[0m \u001b[43m        \u001b[49m\u001b[43m)\u001b[49m\n\u001b[0;32m    963\u001b[0m     \u001b[38;5;28;01melse\u001b[39;00m:\n\u001b[0;32m    964\u001b[0m         result \u001b[38;5;241m=\u001b[39m \u001b[38;5;28mself\u001b[39m\u001b[38;5;241m.\u001b[39m_generate(messages, stop\u001b[38;5;241m=\u001b[39mstop, \u001b[38;5;241m*\u001b[39m\u001b[38;5;241m*\u001b[39mkwargs)\n",
      "File \u001b[1;32mc:\\Users\\Admin\\AppData\\Local\\Programs\\Python\\Python311\\Lib\\site-packages\\langchain_groq\\chat_models.py:480\u001b[0m, in \u001b[0;36mChatGroq._generate\u001b[1;34m(self, messages, stop, run_manager, **kwargs)\u001b[0m\n\u001b[0;32m    475\u001b[0m message_dicts, params \u001b[38;5;241m=\u001b[39m \u001b[38;5;28mself\u001b[39m\u001b[38;5;241m.\u001b[39m_create_message_dicts(messages, stop)\n\u001b[0;32m    476\u001b[0m params \u001b[38;5;241m=\u001b[39m {\n\u001b[0;32m    477\u001b[0m     \u001b[38;5;241m*\u001b[39m\u001b[38;5;241m*\u001b[39mparams,\n\u001b[0;32m    478\u001b[0m     \u001b[38;5;241m*\u001b[39m\u001b[38;5;241m*\u001b[39mkwargs,\n\u001b[0;32m    479\u001b[0m }\n\u001b[1;32m--> 480\u001b[0m response \u001b[38;5;241m=\u001b[39m \u001b[38;5;28;43mself\u001b[39;49m\u001b[38;5;241;43m.\u001b[39;49m\u001b[43mclient\u001b[49m\u001b[38;5;241;43m.\u001b[39;49m\u001b[43mcreate\u001b[49m\u001b[43m(\u001b[49m\u001b[43mmessages\u001b[49m\u001b[38;5;241;43m=\u001b[39;49m\u001b[43mmessage_dicts\u001b[49m\u001b[43m,\u001b[49m\u001b[43m \u001b[49m\u001b[38;5;241;43m*\u001b[39;49m\u001b[38;5;241;43m*\u001b[39;49m\u001b[43mparams\u001b[49m\u001b[43m)\u001b[49m\n\u001b[0;32m    481\u001b[0m \u001b[38;5;28;01mreturn\u001b[39;00m \u001b[38;5;28mself\u001b[39m\u001b[38;5;241m.\u001b[39m_create_chat_result(response)\n",
      "File \u001b[1;32mc:\\Users\\Admin\\AppData\\Local\\Programs\\Python\\Python311\\Lib\\site-packages\\groq\\resources\\chat\\completions.py:298\u001b[0m, in \u001b[0;36mCompletions.create\u001b[1;34m(self, messages, model, frequency_penalty, function_call, functions, logit_bias, logprobs, max_tokens, n, parallel_tool_calls, presence_penalty, response_format, seed, stop, stream, temperature, tool_choice, tools, top_logprobs, top_p, user, extra_headers, extra_query, extra_body, timeout)\u001b[0m\n\u001b[0;32m    157\u001b[0m \u001b[38;5;28;01mdef\u001b[39;00m \u001b[38;5;21mcreate\u001b[39m(\n\u001b[0;32m    158\u001b[0m     \u001b[38;5;28mself\u001b[39m,\n\u001b[0;32m    159\u001b[0m     \u001b[38;5;241m*\u001b[39m,\n\u001b[1;32m   (...)\u001b[0m\n\u001b[0;32m    186\u001b[0m     timeout: \u001b[38;5;28mfloat\u001b[39m \u001b[38;5;241m|\u001b[39m httpx\u001b[38;5;241m.\u001b[39mTimeout \u001b[38;5;241m|\u001b[39m \u001b[38;5;28;01mNone\u001b[39;00m \u001b[38;5;241m|\u001b[39m NotGiven \u001b[38;5;241m=\u001b[39m NOT_GIVEN,\n\u001b[0;32m    187\u001b[0m ) \u001b[38;5;241m-\u001b[39m\u001b[38;5;241m>\u001b[39m ChatCompletion \u001b[38;5;241m|\u001b[39m Stream[ChatCompletionChunk]:\n\u001b[0;32m    188\u001b[0m \u001b[38;5;250m    \u001b[39m\u001b[38;5;124;03m\"\"\"\u001b[39;00m\n\u001b[0;32m    189\u001b[0m \u001b[38;5;124;03m    Creates a model response for the given chat conversation.\u001b[39;00m\n\u001b[0;32m    190\u001b[0m \n\u001b[1;32m   (...)\u001b[0m\n\u001b[0;32m    296\u001b[0m \u001b[38;5;124;03m      timeout: Override the client-level default timeout for this request, in seconds\u001b[39;00m\n\u001b[0;32m    297\u001b[0m \u001b[38;5;124;03m    \"\"\"\u001b[39;00m\n\u001b[1;32m--> 298\u001b[0m     \u001b[38;5;28;01mreturn\u001b[39;00m \u001b[38;5;28;43mself\u001b[39;49m\u001b[38;5;241;43m.\u001b[39;49m\u001b[43m_post\u001b[49m\u001b[43m(\u001b[49m\n\u001b[0;32m    299\u001b[0m \u001b[43m        \u001b[49m\u001b[38;5;124;43m\"\u001b[39;49m\u001b[38;5;124;43m/openai/v1/chat/completions\u001b[39;49m\u001b[38;5;124;43m\"\u001b[39;49m\u001b[43m,\u001b[49m\n\u001b[0;32m    300\u001b[0m \u001b[43m        \u001b[49m\u001b[43mbody\u001b[49m\u001b[38;5;241;43m=\u001b[39;49m\u001b[43mmaybe_transform\u001b[49m\u001b[43m(\u001b[49m\n\u001b[0;32m    301\u001b[0m \u001b[43m            \u001b[49m\u001b[43m{\u001b[49m\n\u001b[0;32m    302\u001b[0m \u001b[43m                \u001b[49m\u001b[38;5;124;43m\"\u001b[39;49m\u001b[38;5;124;43mmessages\u001b[39;49m\u001b[38;5;124;43m\"\u001b[39;49m\u001b[43m:\u001b[49m\u001b[43m \u001b[49m\u001b[43mmessages\u001b[49m\u001b[43m,\u001b[49m\n\u001b[0;32m    303\u001b[0m \u001b[43m                \u001b[49m\u001b[38;5;124;43m\"\u001b[39;49m\u001b[38;5;124;43mmodel\u001b[39;49m\u001b[38;5;124;43m\"\u001b[39;49m\u001b[43m:\u001b[49m\u001b[43m \u001b[49m\u001b[43mmodel\u001b[49m\u001b[43m,\u001b[49m\n\u001b[0;32m    304\u001b[0m \u001b[43m                \u001b[49m\u001b[38;5;124;43m\"\u001b[39;49m\u001b[38;5;124;43mfrequency_penalty\u001b[39;49m\u001b[38;5;124;43m\"\u001b[39;49m\u001b[43m:\u001b[49m\u001b[43m \u001b[49m\u001b[43mfrequency_penalty\u001b[49m\u001b[43m,\u001b[49m\n\u001b[0;32m    305\u001b[0m \u001b[43m                \u001b[49m\u001b[38;5;124;43m\"\u001b[39;49m\u001b[38;5;124;43mfunction_call\u001b[39;49m\u001b[38;5;124;43m\"\u001b[39;49m\u001b[43m:\u001b[49m\u001b[43m \u001b[49m\u001b[43mfunction_call\u001b[49m\u001b[43m,\u001b[49m\n\u001b[0;32m    306\u001b[0m \u001b[43m                \u001b[49m\u001b[38;5;124;43m\"\u001b[39;49m\u001b[38;5;124;43mfunctions\u001b[39;49m\u001b[38;5;124;43m\"\u001b[39;49m\u001b[43m:\u001b[49m\u001b[43m \u001b[49m\u001b[43mfunctions\u001b[49m\u001b[43m,\u001b[49m\n\u001b[0;32m    307\u001b[0m \u001b[43m                \u001b[49m\u001b[38;5;124;43m\"\u001b[39;49m\u001b[38;5;124;43mlogit_bias\u001b[39;49m\u001b[38;5;124;43m\"\u001b[39;49m\u001b[43m:\u001b[49m\u001b[43m \u001b[49m\u001b[43mlogit_bias\u001b[49m\u001b[43m,\u001b[49m\n\u001b[0;32m    308\u001b[0m \u001b[43m                \u001b[49m\u001b[38;5;124;43m\"\u001b[39;49m\u001b[38;5;124;43mlogprobs\u001b[39;49m\u001b[38;5;124;43m\"\u001b[39;49m\u001b[43m:\u001b[49m\u001b[43m \u001b[49m\u001b[43mlogprobs\u001b[49m\u001b[43m,\u001b[49m\n\u001b[0;32m    309\u001b[0m \u001b[43m                \u001b[49m\u001b[38;5;124;43m\"\u001b[39;49m\u001b[38;5;124;43mmax_tokens\u001b[39;49m\u001b[38;5;124;43m\"\u001b[39;49m\u001b[43m:\u001b[49m\u001b[43m \u001b[49m\u001b[43mmax_tokens\u001b[49m\u001b[43m,\u001b[49m\n\u001b[0;32m    310\u001b[0m \u001b[43m                \u001b[49m\u001b[38;5;124;43m\"\u001b[39;49m\u001b[38;5;124;43mn\u001b[39;49m\u001b[38;5;124;43m\"\u001b[39;49m\u001b[43m:\u001b[49m\u001b[43m \u001b[49m\u001b[43mn\u001b[49m\u001b[43m,\u001b[49m\n\u001b[0;32m    311\u001b[0m \u001b[43m                \u001b[49m\u001b[38;5;124;43m\"\u001b[39;49m\u001b[38;5;124;43mparallel_tool_calls\u001b[39;49m\u001b[38;5;124;43m\"\u001b[39;49m\u001b[43m:\u001b[49m\u001b[43m \u001b[49m\u001b[43mparallel_tool_calls\u001b[49m\u001b[43m,\u001b[49m\n\u001b[0;32m    312\u001b[0m \u001b[43m                \u001b[49m\u001b[38;5;124;43m\"\u001b[39;49m\u001b[38;5;124;43mpresence_penalty\u001b[39;49m\u001b[38;5;124;43m\"\u001b[39;49m\u001b[43m:\u001b[49m\u001b[43m \u001b[49m\u001b[43mpresence_penalty\u001b[49m\u001b[43m,\u001b[49m\n\u001b[0;32m    313\u001b[0m \u001b[43m                \u001b[49m\u001b[38;5;124;43m\"\u001b[39;49m\u001b[38;5;124;43mresponse_format\u001b[39;49m\u001b[38;5;124;43m\"\u001b[39;49m\u001b[43m:\u001b[49m\u001b[43m \u001b[49m\u001b[43mresponse_format\u001b[49m\u001b[43m,\u001b[49m\n\u001b[0;32m    314\u001b[0m \u001b[43m                \u001b[49m\u001b[38;5;124;43m\"\u001b[39;49m\u001b[38;5;124;43mseed\u001b[39;49m\u001b[38;5;124;43m\"\u001b[39;49m\u001b[43m:\u001b[49m\u001b[43m \u001b[49m\u001b[43mseed\u001b[49m\u001b[43m,\u001b[49m\n\u001b[0;32m    315\u001b[0m \u001b[43m                \u001b[49m\u001b[38;5;124;43m\"\u001b[39;49m\u001b[38;5;124;43mstop\u001b[39;49m\u001b[38;5;124;43m\"\u001b[39;49m\u001b[43m:\u001b[49m\u001b[43m \u001b[49m\u001b[43mstop\u001b[49m\u001b[43m,\u001b[49m\n\u001b[0;32m    316\u001b[0m \u001b[43m                \u001b[49m\u001b[38;5;124;43m\"\u001b[39;49m\u001b[38;5;124;43mstream\u001b[39;49m\u001b[38;5;124;43m\"\u001b[39;49m\u001b[43m:\u001b[49m\u001b[43m \u001b[49m\u001b[43mstream\u001b[49m\u001b[43m,\u001b[49m\n\u001b[0;32m    317\u001b[0m \u001b[43m                \u001b[49m\u001b[38;5;124;43m\"\u001b[39;49m\u001b[38;5;124;43mtemperature\u001b[39;49m\u001b[38;5;124;43m\"\u001b[39;49m\u001b[43m:\u001b[49m\u001b[43m \u001b[49m\u001b[43mtemperature\u001b[49m\u001b[43m,\u001b[49m\n\u001b[0;32m    318\u001b[0m \u001b[43m                \u001b[49m\u001b[38;5;124;43m\"\u001b[39;49m\u001b[38;5;124;43mtool_choice\u001b[39;49m\u001b[38;5;124;43m\"\u001b[39;49m\u001b[43m:\u001b[49m\u001b[43m \u001b[49m\u001b[43mtool_choice\u001b[49m\u001b[43m,\u001b[49m\n\u001b[0;32m    319\u001b[0m \u001b[43m                \u001b[49m\u001b[38;5;124;43m\"\u001b[39;49m\u001b[38;5;124;43mtools\u001b[39;49m\u001b[38;5;124;43m\"\u001b[39;49m\u001b[43m:\u001b[49m\u001b[43m \u001b[49m\u001b[43mtools\u001b[49m\u001b[43m,\u001b[49m\n\u001b[0;32m    320\u001b[0m \u001b[43m                \u001b[49m\u001b[38;5;124;43m\"\u001b[39;49m\u001b[38;5;124;43mtop_logprobs\u001b[39;49m\u001b[38;5;124;43m\"\u001b[39;49m\u001b[43m:\u001b[49m\u001b[43m \u001b[49m\u001b[43mtop_logprobs\u001b[49m\u001b[43m,\u001b[49m\n\u001b[0;32m    321\u001b[0m \u001b[43m                \u001b[49m\u001b[38;5;124;43m\"\u001b[39;49m\u001b[38;5;124;43mtop_p\u001b[39;49m\u001b[38;5;124;43m\"\u001b[39;49m\u001b[43m:\u001b[49m\u001b[43m \u001b[49m\u001b[43mtop_p\u001b[49m\u001b[43m,\u001b[49m\n\u001b[0;32m    322\u001b[0m \u001b[43m                \u001b[49m\u001b[38;5;124;43m\"\u001b[39;49m\u001b[38;5;124;43muser\u001b[39;49m\u001b[38;5;124;43m\"\u001b[39;49m\u001b[43m:\u001b[49m\u001b[43m \u001b[49m\u001b[43muser\u001b[49m\u001b[43m,\u001b[49m\n\u001b[0;32m    323\u001b[0m \u001b[43m            \u001b[49m\u001b[43m}\u001b[49m\u001b[43m,\u001b[49m\n\u001b[0;32m    324\u001b[0m \u001b[43m            \u001b[49m\u001b[43mcompletion_create_params\u001b[49m\u001b[38;5;241;43m.\u001b[39;49m\u001b[43mCompletionCreateParams\u001b[49m\u001b[43m,\u001b[49m\n\u001b[0;32m    325\u001b[0m \u001b[43m        \u001b[49m\u001b[43m)\u001b[49m\u001b[43m,\u001b[49m\n\u001b[0;32m    326\u001b[0m \u001b[43m        \u001b[49m\u001b[43moptions\u001b[49m\u001b[38;5;241;43m=\u001b[39;49m\u001b[43mmake_request_options\u001b[49m\u001b[43m(\u001b[49m\n\u001b[0;32m    327\u001b[0m \u001b[43m            \u001b[49m\u001b[43mextra_headers\u001b[49m\u001b[38;5;241;43m=\u001b[39;49m\u001b[43mextra_headers\u001b[49m\u001b[43m,\u001b[49m\u001b[43m \u001b[49m\u001b[43mextra_query\u001b[49m\u001b[38;5;241;43m=\u001b[39;49m\u001b[43mextra_query\u001b[49m\u001b[43m,\u001b[49m\u001b[43m \u001b[49m\u001b[43mextra_body\u001b[49m\u001b[38;5;241;43m=\u001b[39;49m\u001b[43mextra_body\u001b[49m\u001b[43m,\u001b[49m\u001b[43m \u001b[49m\u001b[43mtimeout\u001b[49m\u001b[38;5;241;43m=\u001b[39;49m\u001b[43mtimeout\u001b[49m\n\u001b[0;32m    328\u001b[0m \u001b[43m        \u001b[49m\u001b[43m)\u001b[49m\u001b[43m,\u001b[49m\n\u001b[0;32m    329\u001b[0m \u001b[43m        \u001b[49m\u001b[43mcast_to\u001b[49m\u001b[38;5;241;43m=\u001b[39;49m\u001b[43mChatCompletion\u001b[49m\u001b[43m,\u001b[49m\n\u001b[0;32m    330\u001b[0m \u001b[43m        \u001b[49m\u001b[43mstream\u001b[49m\u001b[38;5;241;43m=\u001b[39;49m\u001b[43mstream\u001b[49m\u001b[43m \u001b[49m\u001b[38;5;129;43;01mor\u001b[39;49;00m\u001b[43m \u001b[49m\u001b[38;5;28;43;01mFalse\u001b[39;49;00m\u001b[43m,\u001b[49m\n\u001b[0;32m    331\u001b[0m \u001b[43m        \u001b[49m\u001b[43mstream_cls\u001b[49m\u001b[38;5;241;43m=\u001b[39;49m\u001b[43mStream\u001b[49m\u001b[43m[\u001b[49m\u001b[43mChatCompletionChunk\u001b[49m\u001b[43m]\u001b[49m\u001b[43m,\u001b[49m\n\u001b[0;32m    332\u001b[0m \u001b[43m    \u001b[49m\u001b[43m)\u001b[49m\n",
      "File \u001b[1;32mc:\\Users\\Admin\\AppData\\Local\\Programs\\Python\\Python311\\Lib\\site-packages\\groq\\_base_client.py:1263\u001b[0m, in \u001b[0;36mSyncAPIClient.post\u001b[1;34m(self, path, cast_to, body, options, files, stream, stream_cls)\u001b[0m\n\u001b[0;32m   1249\u001b[0m \u001b[38;5;28;01mdef\u001b[39;00m \u001b[38;5;21mpost\u001b[39m(\n\u001b[0;32m   1250\u001b[0m     \u001b[38;5;28mself\u001b[39m,\n\u001b[0;32m   1251\u001b[0m     path: \u001b[38;5;28mstr\u001b[39m,\n\u001b[1;32m   (...)\u001b[0m\n\u001b[0;32m   1258\u001b[0m     stream_cls: \u001b[38;5;28mtype\u001b[39m[_StreamT] \u001b[38;5;241m|\u001b[39m \u001b[38;5;28;01mNone\u001b[39;00m \u001b[38;5;241m=\u001b[39m \u001b[38;5;28;01mNone\u001b[39;00m,\n\u001b[0;32m   1259\u001b[0m ) \u001b[38;5;241m-\u001b[39m\u001b[38;5;241m>\u001b[39m ResponseT \u001b[38;5;241m|\u001b[39m _StreamT:\n\u001b[0;32m   1260\u001b[0m     opts \u001b[38;5;241m=\u001b[39m FinalRequestOptions\u001b[38;5;241m.\u001b[39mconstruct(\n\u001b[0;32m   1261\u001b[0m         method\u001b[38;5;241m=\u001b[39m\u001b[38;5;124m\"\u001b[39m\u001b[38;5;124mpost\u001b[39m\u001b[38;5;124m\"\u001b[39m, url\u001b[38;5;241m=\u001b[39mpath, json_data\u001b[38;5;241m=\u001b[39mbody, files\u001b[38;5;241m=\u001b[39mto_httpx_files(files), \u001b[38;5;241m*\u001b[39m\u001b[38;5;241m*\u001b[39moptions\n\u001b[0;32m   1262\u001b[0m     )\n\u001b[1;32m-> 1263\u001b[0m     \u001b[38;5;28;01mreturn\u001b[39;00m cast(ResponseT, \u001b[38;5;28;43mself\u001b[39;49m\u001b[38;5;241;43m.\u001b[39;49m\u001b[43mrequest\u001b[49m\u001b[43m(\u001b[49m\u001b[43mcast_to\u001b[49m\u001b[43m,\u001b[49m\u001b[43m \u001b[49m\u001b[43mopts\u001b[49m\u001b[43m,\u001b[49m\u001b[43m \u001b[49m\u001b[43mstream\u001b[49m\u001b[38;5;241;43m=\u001b[39;49m\u001b[43mstream\u001b[49m\u001b[43m,\u001b[49m\u001b[43m \u001b[49m\u001b[43mstream_cls\u001b[49m\u001b[38;5;241;43m=\u001b[39;49m\u001b[43mstream_cls\u001b[49m\u001b[43m)\u001b[49m)\n",
      "File \u001b[1;32mc:\\Users\\Admin\\AppData\\Local\\Programs\\Python\\Python311\\Lib\\site-packages\\groq\\_base_client.py:955\u001b[0m, in \u001b[0;36mSyncAPIClient.request\u001b[1;34m(self, cast_to, options, remaining_retries, stream, stream_cls)\u001b[0m\n\u001b[0;32m    952\u001b[0m \u001b[38;5;28;01melse\u001b[39;00m:\n\u001b[0;32m    953\u001b[0m     retries_taken \u001b[38;5;241m=\u001b[39m \u001b[38;5;241m0\u001b[39m\n\u001b[1;32m--> 955\u001b[0m \u001b[38;5;28;01mreturn\u001b[39;00m \u001b[38;5;28;43mself\u001b[39;49m\u001b[38;5;241;43m.\u001b[39;49m\u001b[43m_request\u001b[49m\u001b[43m(\u001b[49m\n\u001b[0;32m    956\u001b[0m \u001b[43m    \u001b[49m\u001b[43mcast_to\u001b[49m\u001b[38;5;241;43m=\u001b[39;49m\u001b[43mcast_to\u001b[49m\u001b[43m,\u001b[49m\n\u001b[0;32m    957\u001b[0m \u001b[43m    \u001b[49m\u001b[43moptions\u001b[49m\u001b[38;5;241;43m=\u001b[39;49m\u001b[43moptions\u001b[49m\u001b[43m,\u001b[49m\n\u001b[0;32m    958\u001b[0m \u001b[43m    \u001b[49m\u001b[43mstream\u001b[49m\u001b[38;5;241;43m=\u001b[39;49m\u001b[43mstream\u001b[49m\u001b[43m,\u001b[49m\n\u001b[0;32m    959\u001b[0m \u001b[43m    \u001b[49m\u001b[43mstream_cls\u001b[49m\u001b[38;5;241;43m=\u001b[39;49m\u001b[43mstream_cls\u001b[49m\u001b[43m,\u001b[49m\n\u001b[0;32m    960\u001b[0m \u001b[43m    \u001b[49m\u001b[43mretries_taken\u001b[49m\u001b[38;5;241;43m=\u001b[39;49m\u001b[43mretries_taken\u001b[49m\u001b[43m,\u001b[49m\n\u001b[0;32m    961\u001b[0m \u001b[43m\u001b[49m\u001b[43m)\u001b[49m\n",
      "File \u001b[1;32mc:\\Users\\Admin\\AppData\\Local\\Programs\\Python\\Python311\\Lib\\site-packages\\groq\\_base_client.py:1058\u001b[0m, in \u001b[0;36mSyncAPIClient._request\u001b[1;34m(self, cast_to, options, retries_taken, stream, stream_cls)\u001b[0m\n\u001b[0;32m   1055\u001b[0m         err\u001b[38;5;241m.\u001b[39mresponse\u001b[38;5;241m.\u001b[39mread()\n\u001b[0;32m   1057\u001b[0m     log\u001b[38;5;241m.\u001b[39mdebug(\u001b[38;5;124m\"\u001b[39m\u001b[38;5;124mRe-raising status error\u001b[39m\u001b[38;5;124m\"\u001b[39m)\n\u001b[1;32m-> 1058\u001b[0m     \u001b[38;5;28;01mraise\u001b[39;00m \u001b[38;5;28mself\u001b[39m\u001b[38;5;241m.\u001b[39m_make_status_error_from_response(err\u001b[38;5;241m.\u001b[39mresponse) \u001b[38;5;28;01mfrom\u001b[39;00m \u001b[38;5;28;01mNone\u001b[39;00m\n\u001b[0;32m   1060\u001b[0m \u001b[38;5;28;01mreturn\u001b[39;00m \u001b[38;5;28mself\u001b[39m\u001b[38;5;241m.\u001b[39m_process_response(\n\u001b[0;32m   1061\u001b[0m     cast_to\u001b[38;5;241m=\u001b[39mcast_to,\n\u001b[0;32m   1062\u001b[0m     options\u001b[38;5;241m=\u001b[39moptions,\n\u001b[1;32m   (...)\u001b[0m\n\u001b[0;32m   1066\u001b[0m     retries_taken\u001b[38;5;241m=\u001b[39mretries_taken,\n\u001b[0;32m   1067\u001b[0m )\n",
      "\u001b[1;31mBadRequestError\u001b[0m: Error code: 400 - {'error': {'message': \"Failed to call a function. Please adjust your prompt. See 'failed_generation' for more details.\", 'type': 'invalid_request_error', 'code': 'tool_use_failed', 'failed_generation': ' \\n  SELECT \\n    c.country, \\n    AVG(p.total_payments / r.rental_count) AS avg_lifetime_value\\n  FROM \\n    country c\\n  JOIN \\n    customer cu ON c.country_id = cu.customer_id\\n  JOIN \\n    (\\n      SELECT \\n        customer_id, \\n        SUM(amount) AS total_payments\\n      FROM \\n        payment\\n      GROUP BY \\n        customer_id\\n    ) p ON cu.customer_id = p.customer_id\\n  JOIN \\n    (\\n      SELECT \\n        customer_id, \\n        COUNT(rental_id) AS rental_count\\n      FROM \\n        rental\\n      GROUP BY \\n        customer_id\\n    ) r ON cu.customer_id = r.customer_id\\n  GROUP BY \\n    c.country\\n  ORDER BY \\n    avg_lifetime_value DESC\\n  LIMIT 1;\\n</function>\\n\\n<function=QueryOutput> \\n  SELECT \\n    a.city, \\n    SUM(p.amount) AS total_revenue\\n  FROM \\n    address a\\n  JOIN \\n    customer cu ON a.address_id = cu.address_id\\n  JOIN \\n    payment p ON cu.customer_id = p.customer_id\\n  WHERE \\n    cu.country_id = (\\n      SELECT \\n        c.country_id\\n      FROM \\n        country c\\n      JOIN \\n        customer cu ON c.country_id = cu.customer_id\\n      JOIN \\n        (\\n          SELECT \\n            customer_id, \\n            SUM(amount) AS total_payments\\n          FROM \\n            payment\\n          GROUP BY \\n            customer_id\\n        ) p ON cu.customer_id = p.customer_id\\n      JOIN \\n        (\\n          SELECT \\n            customer_id, \\n            COUNT(rental_id) AS rental_count\\n          FROM \\n            rental\\n          GROUP BY \\n            customer_id\\n        ) r ON cu.customer_id = r.customer_id\\n      GROUP BY \\n        c.country\\n      ORDER BY \\n        AVG(p.total_payments / r.rental_count) DESC\\n      LIMIT 1\\n    )\\n  GROUP BY \\n    a.city\\n  ORDER BY \\n    total_revenue DESC\\n  LIMIT 3;\\n</function>'}}"
     ]
    }
   ],
   "source": [
    "# Generate the SQL query\n",
    "generated_query = generate_sql_query(\"Which country has the highest average customer lifetime value (total payments divided by rental count per customer), and what are the top 3 cities in that country by total revenue?\")\n",
    "\n",
    "# Execute the generated SQL query\n",
    "print(generated_query)\n",
    "final_result = execute_sql_query(generated_query[\"query\"])\n",
    "\n",
    "# Print the final result\n",
    "print(final_result)"
   ]
  },
  {
   "cell_type": "code",
   "execution_count": 35,
   "metadata": {},
   "outputs": [
    {
     "name": "stdout",
     "output_type": "stream",
     "text": [
      "{'query': \"SELECT release_year, length, rating, language FROM film WHERE title = 'ARABIA DOGMA' LIMIT 10\"}\n",
      "{'result': 'Error: (pymysql.err.OperationalError) (1054, \"Unknown column \\'language\\' in \\'field list\\'\")\\n[SQL: SELECT release_year, length, rating, language FROM film WHERE title = \\'ARABIA DOGMA\\' LIMIT 10]\\n(Background on this error at: https://sqlalche.me/e/20/e3q8)'}\n"
     ]
    }
   ],
   "source": [
    "# Generate the SQL query\n",
    "generated_query = generate_sql_query(\"fetch me release year,length,rating, language of this movie ARABIA DOGMA \")\n",
    "\n",
    "# Execute the generated SQL query\n",
    "print(generated_query)\n",
    "final_result = execute_sql_query(generated_query[\"query\"])\n",
    "\n",
    "# Print the final result \n",
    "print(final_result)"
   ]
  },
  {
   "cell_type": "code",
   "execution_count": 36,
   "metadata": {},
   "outputs": [
    {
     "name": "stdout",
     "output_type": "stream",
     "text": [
      "{'query': \"SELECT COUNT(film_id) FROM film WHERE release_year = 2006 AND rating = 'NC-17'\"}\n",
      "{'result': '[(210,)]'}\n"
     ]
    }
   ],
   "source": [
    "# Generate the SQL query\n",
    "generated_query = generate_sql_query(\"fetch me count movies released in 2006 with NC-17 rating \")\n",
    "\n",
    "# Execute the generated SQL query\n",
    "print(generated_query)\n",
    "final_result = execute_sql_query(generated_query[\"query\"])\n",
    "\n",
    "# Print the final result\n",
    "print(final_result)"
   ]
  },
  {
   "cell_type": "code",
   "execution_count": 37,
   "metadata": {},
   "outputs": [
    {
     "name": "stdout",
     "output_type": "stream",
     "text": [
      "{'query': 'SELECT s.first_name, s.last_name, COUNT(p.payment_id) as total_payments, SUM(p.amount) as total_amount FROM payment p JOIN staff s ON p.staff_id = s.staff_id GROUP BY s.staff_id ORDER BY total_payments DESC LIMIT 1'}\n",
      "{'result': \"[('Mike', 'Hillyer', 8054, Decimal('33482.50'))]\"}\n"
     ]
    }
   ],
   "source": [
    "# Generate the SQL query\n",
    "generated_query = generate_sql_query(\"Which staff member has processed the most payments, and what is the total amount they have handled?\")\n",
    "\n",
    "# Execute the generated SQL query\n",
    "print(generated_query)\n",
    "final_result = execute_sql_query(generated_query[\"query\"])\n",
    "\n",
    "# Print the final result\n",
    "print(final_result)"
   ]
  },
  {
   "cell_type": "code",
   "execution_count": 38,
   "metadata": {},
   "outputs": [
    {
     "name": "stdout",
     "output_type": "stream",
     "text": [
      "{'query': 'SELECT s.store_id, SUM(f.rental_rate) AS total_revenue FROM film f JOIN inventory i ON f.film_id = i.film_id JOIN rental r ON i.inventory_id = r.inventory_id JOIN store s ON i.store_id = s.store_id GROUP BY s.store_id LIMIT 10'}\n",
      "{'result': \"[(1, Decimal('23509.77')), (2, Decimal('23701.79'))]\"}\n"
     ]
    }
   ],
   "source": [
    "# Generate the SQL query\n",
    "generated_query = generate_sql_query(\"What is the total revenue generated by each store location from film rentals?\")\n",
    "\n",
    "# Execute the generated SQL query\n",
    "print(generated_query)\n",
    "final_result = execute_sql_query(generated_query[\"query\"])\n",
    "\n",
    "# Print the final result\n",
    "print(final_result)"
   ]
  },
  {
   "cell_type": "code",
   "execution_count": 39,
   "metadata": {},
   "outputs": [
    {
     "name": "stdout",
     "output_type": "stream",
     "text": [
      "{'query': 'SELECT s.store_id, COUNT(st.staff_id) as staff_count FROM store s JOIN staff st ON s.store_id = st.store_id GROUP BY s.store_id ORDER BY staff_count DESC LIMIT 10;'}\n",
      "{'result': '[(1, 1), (2, 1)]'}\n"
     ]
    }
   ],
   "source": [
    "# Generate the SQL query\n",
    "generated_query = generate_sql_query(\"List all stores with their staff counts. Which store has the most staff?\")\n",
    "\n",
    "# Execute the generated SQL query\n",
    "print(generated_query)\n",
    "final_result = execute_sql_query(generated_query[\"query\"])\n",
    "\n",
    "# Print the final result\n",
    "print(final_result)"
   ]
  },
  {
   "cell_type": "code",
   "execution_count": 40,
   "metadata": {},
   "outputs": [
    {
     "name": "stdout",
     "output_type": "stream",
     "text": [
      "{'query': 'SELECT f.description, f.title, l.name AS category FROM film f JOIN language l ON f.language_id = l.language_id WHERE f.film_id NOT IN (SELECT film_id FROM rental) LIMIT 10'}\n",
      "{'result': ''}\n"
     ]
    }
   ],
   "source": [
    "# Generate the SQL query\n",
    "generated_query = generate_sql_query(\"List all films that have never been rented, including their descriptions and categories.\")\n",
    "\n",
    "# Execute the generated SQL query\n",
    "print(generated_query)\n",
    "final_result = execute_sql_query(generated_query[\"query\"])\n",
    "\n",
    "# Print the final result\n",
    "print(final_result)"
   ]
  }
 ],
 "metadata": {
  "kernelspec": {
   "display_name": "Python 3",
   "language": "python",
   "name": "python3"
  },
  "language_info": {
   "codemirror_mode": {
    "name": "ipython",
    "version": 3
   },
   "file_extension": ".py",
   "mimetype": "text/x-python",
   "name": "python",
   "nbconvert_exporter": "python",
   "pygments_lexer": "ipython3",
   "version": "3.11.9"
  }
 },
 "nbformat": 4,
 "nbformat_minor": 2
}
